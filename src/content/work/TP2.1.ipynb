{
 "cells": [
  {
   "cell_type": "code",
   "execution_count": 1,
   "id": "7a076957-10aa-4cc2-9bd3-bdece91650fd",
   "metadata": {},
   "outputs": [
    {
     "data": {
      "application/vnd.jupyter.widget-view+json": {
       "model_id": "1f5a09053cf24b80a7552fe5671fab5f",
       "version_major": 2,
       "version_minor": 0
      },
      "text/plain": [
       "Widget(value='<iframe src=\"http://localhost:62298/index.html?ui=P_0x169acf9e0_0&reconnect=auto\" class=\"pyvista…"
      ]
     },
     "metadata": {},
     "output_type": "display_data"
    }
   ],
   "source": [
    "import numpy as np\n",
    "import pyvista as pv\n",
    "from mpi4py import MPI\n",
    "from dolfinx import mesh, plot, fem, io\n",
    "from dolfinx.fem.petsc import LinearProblem\n",
    "import ufl\n",
    "from ufl import TrialFunction, TestFunction, dx, grad, inner\n",
    "from petsc4py import PETSc\n",
    "import scipy.sparse\n",
    "\n",
    "# Paramètres\n",
    "L1 = 1.0  # Longueur de l'intervalle\n",
    "nx = 50   # Nombre de subdivisions\n",
    "\n",
    "# Création du maillage 1D\n",
    "domain = mesh.create_interval(MPI.COMM_WORLD, nx, [0, L1])\n",
    "\n",
    "# Tracé du maillage en utilisant PyVista\n",
    "plotter = pv.Plotter()\n",
    "topology, cell_types, geometry = plot.vtk_mesh(domain)\n",
    "grid = pv.UnstructuredGrid(topology, cell_types, geometry)\n",
    "plotter.add_mesh(grid, show_edges=True)\n",
    "plotter.add_text(\"Maillage du domaine\", font_size=12, color=\"grey\", position=\"upper_edge\")  # Ajout d'un texte (\"Maillage du domaine\") en gris en haut du plot\n",
    "plotter.show_bounds(color=\"grey\")  # Affichage des limites du plot avec des lignes grises\n",
    "plotter.add_axes(color=\"grey\")  # Ajout des axes du plot avec des lignes grises\n",
    "plotter.set_background(\"black\")  # Définition de l'arrière-plan du plot en noir\n",
    "plotter.show()"
   ]
  },
  {
   "cell_type": "code",
   "execution_count": 3,
   "id": "133b45a4-87d3-47a0-a9d2-86301aab10e2",
   "metadata": {},
   "outputs": [],
   "source": [
    "plotter.view_zx() # Vue XY (vue par défaut)"
   ]
  },
  {
   "cell_type": "code",
   "execution_count": 4,
   "id": "538c9058-c415-483c-95a4-06cea57d35af",
   "metadata": {},
   "outputs": [],
   "source": [
    "# Définir l'espace fonctionnel\n",
    "V = fem.functionspace(domain, (\"CG\", 1))\n",
    "\n",
    "# Définir les fonctions de test et d'essai\n",
    "thetat = ufl.TestFunction(V)\n",
    "delta_theta = ufl.TrialFunction(V)\n",
    "\n",
    "# Définir les formes bilinéaires\n",
    "a_k = ufl.dot(ufl.grad(delta_theta), ufl.grad(thetat)) * ufl.dx\n",
    "a_g = delta_theta * thetat * ufl.dx\n",
    "\n",
    "# Assembler les matrices\n",
    "K = fem.petsc.assemble_matrix(fem.form(a_k))\n",
    "K.assemble()\n",
    "\n",
    "G = fem.petsc.assemble_matrix(fem.form(a_g))\n",
    "G.assemble()"
   ]
  },
  {
   "cell_type": "code",
   "execution_count": 5,
   "id": "73012189-1214-444f-8c61-a7e758cc2e40",
   "metadata": {},
   "outputs": [
    {
     "name": "stdout",
     "output_type": "stream",
     "text": [
      "Matrice de rigidité K (dense):\n",
      "[[ 50. -50.   0. ...   0.   0.   0.]\n",
      " [-50. 100. -50. ...   0.   0.   0.]\n",
      " [  0. -50. 100. ...   0.   0.   0.]\n",
      " ...\n",
      " [  0.   0.   0. ... 100. -50.   0.]\n",
      " [  0.   0.   0. ... -50. 100. -50.]\n",
      " [  0.   0.   0. ...   0. -50.  50.]]\n",
      "Matrice de précontrainte G (dense):\n",
      "[[0.00666667 0.00333333 0.         ... 0.         0.         0.        ]\n",
      " [0.00333333 0.01333333 0.00333333 ... 0.         0.         0.        ]\n",
      " [0.         0.00333333 0.01333333 ... 0.         0.         0.        ]\n",
      " ...\n",
      " [0.         0.         0.         ... 0.01333333 0.00333333 0.        ]\n",
      " [0.         0.         0.         ... 0.00333333 0.01333333 0.00333333]\n",
      " [0.         0.         0.         ... 0.         0.00333333 0.00666667]]\n"
     ]
    }
   ],
   "source": [
    "# Conversion des matrices PETSc en matrices SciPy\n",
    "def petsc_to_scipy(petsc_mat):\n",
    "    AI, AJ, AV = petsc_mat.getValuesCSR()\n",
    "    return scipy.sparse.csr_matrix((AV, AJ, AI), shape=petsc_mat.getSize())\n",
    "\n",
    "K_scipy = petsc_to_scipy(K)\n",
    "G_scipy = petsc_to_scipy(G)\n",
    "\n",
    "# Conversion en matrices denses pour affichage (pour des petites matrices)\n",
    "K_dense = K_scipy.toarray()\n",
    "G_dense = G_scipy.toarray()\n",
    "\n",
    "# Affichage des matrices denses\n",
    "print(\"Matrice de rigidité K (dense):\")\n",
    "print(K_dense)\n",
    "\n",
    "print(\"Matrice de précontrainte G (dense):\")\n",
    "print(G_dense)"
   ]
  },
  {
   "cell_type": "code",
   "execution_count": 6,
   "id": "8bdbf61d-52a4-459c-8c19-c5831eacd4a9",
   "metadata": {},
   "outputs": [
    {
     "name": "stdout",
     "output_type": "stream",
     "text": [
      "Number of converged eigenpairs: 5\n",
      "Eigenvalue 0: 2.544631172440859e-13\n",
      "Eigenvalue 1: 9.872851797903968\n",
      "Eigenvalue 2: 39.530396421925666\n",
      "Eigenvalue 3: 89.08975451803028\n",
      "Eigenvalue 4: 158.74663349382962\n"
     ]
    }
   ],
   "source": [
    "from slepc4py import SLEPc\n",
    "# Définir le solveur de valeurs propres\n",
    "eigensolver = SLEPc.EPS().create()\n",
    "eigensolver.setOperators(K, G)\n",
    "eigensolver.setProblemType(SLEPc.EPS.ProblemType.GNHEP)\n",
    "\n",
    "# Définir les paramètres du solveur\n",
    "eigensolver.setType(SLEPc.EPS.Type.KRYLOVSCHUR)\n",
    "eigensolver.setWhichEigenpairs(SLEPc.EPS.Which.TARGET_REAL)\n",
    "eigensolver.setTarget(1.0)\n",
    "\n",
    "ST = eigensolver.getST()\n",
    "ST.setType(SLEPc.ST.Type.SINVERT)\n",
    "\n",
    "# Définir les options PETSc\n",
    "opts = PETSc.Options()\n",
    "opts['eps_monitor'] = 1\n",
    "\n",
    "# Résoudre le problème aux valeurs propres\n",
    "eigensolver.solve()\n",
    "\n",
    "# Obtenir les résultats\n",
    "nconv = eigensolver.getConverged()\n",
    "print(f\"Number of converged eigenpairs: {nconv}\")\n",
    "\n",
    "# Extraction et affichage des valeurs propres réelles\n",
    "for i in range(nconv):\n",
    "    # Obtenir la valeur propre\n",
    "    eigenvalue = eigensolver.getEigenvalue(i)\n",
    "    print(f\"Eigenvalue {i}: {eigenvalue.real}\")"
   ]
  },
  {
   "cell_type": "code",
   "execution_count": 7,
   "id": "5ff727d2-f49c-4a18-8f90-262c3ad81b56",
   "metadata": {},
   "outputs": [
    {
     "name": "stdout",
     "output_type": "stream",
     "text": [
      "Number of iterations: 1\n"
     ]
    }
   ],
   "source": [
    "# Obtenir le nombre d'itérations\n",
    "iterations = eigensolver.getIterationNumber()\n",
    "print('Number of iterations:', iterations)"
   ]
  },
  {
   "cell_type": "code",
   "execution_count": 8,
   "id": "ed1d1373-cf8f-4ad4-8841-a75d4624e93b",
   "metadata": {
    "scrolled": true
   },
   "outputs": [],
   "source": [
    "# Amplification des modes et visualisation\n",
    "scale_factor = 1  # Facteur de mise à l'échelle pour la visualisation\n",
    "\n",
    "# Préparer le maillage pour PyVista\n",
    "topology, cell_types, geometry = plot.vtk_mesh(domain)"
   ]
  },
  {
   "cell_type": "code",
   "execution_count": 9,
   "id": "e91f50ac-ba73-4f54-82b5-97edd2516a04",
   "metadata": {},
   "outputs": [],
   "source": [
    "# Création du fichier XDMF\n",
    "xdmf_file = io.XDMFFile(MPI.COMM_WORLD, \"modes.xdmf\", \"w\")\n",
    "xdmf_file.write_mesh(domain)"
   ]
  },
  {
   "cell_type": "code",
   "execution_count": 10,
   "id": "6b37f37f-467d-4fd9-9b6d-d7a064bf0754",
   "metadata": {},
   "outputs": [
    {
     "data": {
      "application/vnd.jupyter.widget-view+json": {
       "model_id": "d1d631d92faa45e19a0c8be61b26e66f",
       "version_major": 2,
       "version_minor": 0
      },
      "text/plain": [
       "Widget(value='<iframe src=\"http://localhost:62298/index.html?ui=P_0x286aac830_1&reconnect=auto\" class=\"pyvista…"
      ]
     },
     "metadata": {},
     "output_type": "display_data"
    },
    {
     "data": {
      "application/vnd.jupyter.widget-view+json": {
       "model_id": "c22ddd4f417f49409dcee7e5f4da410e",
       "version_major": 2,
       "version_minor": 0
      },
      "text/plain": [
       "Widget(value='<iframe src=\"http://localhost:62298/index.html?ui=P_0x28f7533e0_2&reconnect=auto\" class=\"pyvista…"
      ]
     },
     "metadata": {},
     "output_type": "display_data"
    },
    {
     "data": {
      "application/vnd.jupyter.widget-view+json": {
       "model_id": "6acfbd80f8ed46ee85c052e39054aaf0",
       "version_major": 2,
       "version_minor": 0
      },
      "text/plain": [
       "Widget(value='<iframe src=\"http://localhost:62298/index.html?ui=P_0x28f786600_3&reconnect=auto\" class=\"pyvista…"
      ]
     },
     "metadata": {},
     "output_type": "display_data"
    },
    {
     "data": {
      "application/vnd.jupyter.widget-view+json": {
       "model_id": "eb698ffed76148ea8645b04800e3e176",
       "version_major": 2,
       "version_minor": 0
      },
      "text/plain": [
       "Widget(value='<iframe src=\"http://localhost:62298/index.html?ui=P_0x28f786270_4&reconnect=auto\" class=\"pyvista…"
      ]
     },
     "metadata": {},
     "output_type": "display_data"
    },
    {
     "data": {
      "application/vnd.jupyter.widget-view+json": {
       "model_id": "9c57689aa353434abf9f56aae3b0c4e6",
       "version_major": 2,
       "version_minor": 0
      },
      "text/plain": [
       "Widget(value='<iframe src=\"http://localhost:62298/index.html?ui=P_0x2a9d0a330_5&reconnect=auto\" class=\"pyvista…"
      ]
     },
     "metadata": {},
     "output_type": "display_data"
    },
    {
     "name": "stdout",
     "output_type": "stream",
     "text": [
      "Modes written to XDMF file.\n"
     ]
    }
   ],
   "source": [
    "# Préparer le mode_theta pour la visualisation et l'enregistrement\n",
    "mode_theta = fem.Function(V)\n",
    "\n",
    "for i in range(0, nconv):  # Ignorer le premier mode si nécessaire\n",
    "    lambda_r = eigensolver.getEigenvalue(i)\n",
    "    eigensolver.getEigenvector(i, mode_theta.vector)\n",
    "    \n",
    "    # Convertir PETSc Vec en tableau NumPy\n",
    "    mode_values = mode_theta.vector.array\n",
    "    \n",
    "    # Amplifier les valeurs pour la visualisation\n",
    "    amplified_values = mode_values * scale_factor\n",
    "    \n",
    "    # Ajouter les données de déformation au maillage\n",
    "    grid = pv.UnstructuredGrid(*plot.vtk_mesh(domain))\n",
    "    grid.point_data[f\"Mode_{i}\"] = amplified_values\n",
    "    \n",
    "    # Créer un objet PyVista Warp pour visualiser les déformations\n",
    "    warped = grid.warp_by_scalar(f\"Mode_{i}\", factor=scale_factor)  # Ajustez le facteur de mise en forme si nécessaire\n",
    "    \n",
    "    # Tracé des modes déformés\n",
    "    plotter = pv.Plotter()\n",
    "    plotter.add_mesh(warped, show_edges=True, cmap=\"turbo\", show_scalar_bar=False) \n",
    "    plotter.add_text(f\"Mode {i}\", font_size=12, color=\"black\", position=\"upper_edge\")      \n",
    "    scalar_bar = plotter.add_scalar_bar(\n",
    "        color=\"black\",  # Couleur du texte de la barre scalaire\n",
    "        title=\"u\",  # Titre de la barre scalaire\n",
    "        title_font_size=24,  # Taille de police du titre\n",
    "        label_font_size=22,  # Taille de police des étiquettes\n",
    "        shadow=False,  # Désactiver l'ombre\n",
    "        n_labels=5,  # Nombre d'étiquettes sur la barre scalaire\n",
    "        italic=False,  # Texte en italique\n",
    "        font_family=\"arial\",  # Famille de police du texte\n",
    "        vertical=True  # Orientation verticale de la barre scalaire\n",
    "    )\n",
    "    plotter.show_bounds(color=\"black\")\n",
    "    plotter.add_axes(color=\"black\")\n",
    "    plotter.set_background(\"grey\")\n",
    "    plotter.show()\n",
    "    \n",
    "    # Écriture du mode amplifié dans le fichier XDMF\n",
    "    mode_function = fem.Function(V)\n",
    "    mode_function.vector.setArray(amplified_values)\n",
    "    xdmf_file.write_function(mode_function, t=float(i))\n",
    "\n",
    "xdmf_file.close()\n",
    "\n",
    "print(\"Modes written to XDMF file.\")"
   ]
  },
  {
   "cell_type": "code",
   "execution_count": null,
   "id": "6cdf17a9-3db3-471a-8b02-e369efcc3ba1",
   "metadata": {},
   "outputs": [],
   "source": []
  }
 ],
 "metadata": {
  "kernelspec": {
   "display_name": "Python 3 (ipykernel)",
   "language": "python",
   "name": "python3"
  },
  "language_info": {
   "codemirror_mode": {
    "name": "ipython",
    "version": 3
   },
   "file_extension": ".py",
   "mimetype": "text/x-python",
   "name": "python",
   "nbconvert_exporter": "python",
   "pygments_lexer": "ipython3",
   "version": "3.12.4"
  }
 },
 "nbformat": 4,
 "nbformat_minor": 5
}
