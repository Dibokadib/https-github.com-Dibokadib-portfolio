{
 "cells": [
  {
   "cell_type": "code",
   "execution_count": 1,
   "metadata": {
    "collapsed": false
   },
   "outputs": [
    {
     "data": {
      "image/png": "[encoded data removed]",
      "text/plain": [
       "<matplotlib.figure.Figure at 0x7ff3c4f94490>"
      ]
     },
     "metadata": {},
     "output_type": "display_data"
    }
   ],
   "source": [
    "from fenics import *\n",
    "parameters.plotting_backend = 'matplotlib'\n",
    "%matplotlib inline\n",
    "\n",
    "mesh = UnitIntervalMesh(100)\n",
    "plot(mesh)\n",
    "\n",
    "V = FunctionSpace(mesh, 'CG', 1)\n",
    "thetat = TestFunction(V)\n",
    "delta_theta = TrialFunction(V)\n",
    "\n",
    "a_k = delta_theta.dx(0)*thetat.dx(0)*dx\n",
    "a_g = delta_theta*thetat*dx\n",
    "K = assemble(a_k)\n",
    "G = assemble(a_g)"
   ]
  },
  {
   "cell_type": "code",
   "execution_count": 2,
   "metadata": {
    "collapsed": false
   },
   "outputs": [],
   "source": [
    "# Setting the eigenvalue solver\n",
    "eigensolver = SLEPcEigenSolver(as_backend_type(K),as_backend_type(G))\n",
    "solver_par = eigensolver.parameters\n",
    "solver_par.spectrum = 'smallest real'\n",
    "solver_par.problem_type = 'gen_hermitian'\n",
    "solver_par.solver = 'krylov-schur'\n",
    "solver_par.spectral_transform = 'shift-and-invert'\n",
    "solver_par.spectral_shift = 1.\n",
    "info(solver_par,True)\n",
    "PETScOptions.set('eps_monitor',1)"
   ]
  },
  {
   "cell_type": "code",
   "execution_count": 3,
   "metadata": {
    "collapsed": false
   },
   "outputs": [
    {
     "name": "stdout",
     "output_type": "stream",
     "text": [
      "computing eigenvalues\n",
      "('number of iterations:', 8)\n"
     ]
    }
   ],
   "source": [
    "# Solvethe eigenvalue problem\n",
    "print('computing eigenvalues')\n",
    "n_eigen = 5\n",
    "eigensolver.solve(n_eigen)\n",
    "print('number of iterations:', eigensolver.get_number_converged())\n",
    "\n",
    "myfile = File('modes.pvd')"
   ]
  },
  {
   "cell_type": "code",
   "execution_count": 4,
   "metadata": {
    "collapsed": false
   },
   "outputs": [
    {
     "name": "stdout",
     "output_type": "stream",
     "text": [
      "eigenvalue 0 = 1.06292752378e-12\n",
      "eigenvalue 1 = 9.87041617022\n",
      "eigenvalue 2 = 39.4914071916\n",
      "eigenvalue 3 = 88.8922101969\n",
      "eigenvalue 4 = 158.121585688\n"
     ]
    },
    {
     "ename": "NameError",
     "evalue": "name 'xy_vertex_values' is not defined",
     "output_type": "error",
     "traceback": [
      "\u001b[0;31m\u001b[0m",
      "\u001b[0;31mNameError\u001b[0mTraceback (most recent call last)",
      "\u001b[0;32m<ipython-input-4-c6254f16d63c>\u001b[0m in \u001b[0;36m<module>\u001b[0;34m()\u001b[0m\n\u001b[1;32m      6\u001b[0m     \u001b[0;32mprint\u001b[0m\u001b[0;34m(\u001b[0m\u001b[0;34m'eigenvalue %s = %s'\u001b[0m\u001b[0;34m%\u001b[0m\u001b[0;34m(\u001b[0m\u001b[0mi\u001b[0m\u001b[0;34m,\u001b[0m \u001b[0mlambda_r\u001b[0m\u001b[0;34m)\u001b[0m\u001b[0;34m)\u001b[0m\u001b[0;34m\u001b[0m\u001b[0m\n\u001b[1;32m      7\u001b[0m \u001b[0;34m\u001b[0m\u001b[0m\n\u001b[0;32m----> 8\u001b[0;31m \u001b[0;34m(\u001b[0m\u001b[0mxsv\u001b[0m\u001b[0;34m,\u001b[0m \u001b[0mysv\u001b[0m\u001b[0;34m)\u001b[0m \u001b[0;34m=\u001b[0m \u001b[0mxy_vertex_values\u001b[0m\u001b[0;34m(\u001b[0m\u001b[0mxy_shape\u001b[0m\u001b[0;34m(\u001b[0m\u001b[0mtheta\u001b[0m\u001b[0;34m)\u001b[0m\u001b[0;34m)\u001b[0m\u001b[0;34m\u001b[0m\u001b[0m\n\u001b[0m\u001b[1;32m      9\u001b[0m \u001b[0max\u001b[0m \u001b[0;34m=\u001b[0m \u001b[0mfig\u001b[0m\u001b[0;34m.\u001b[0m\u001b[0madd_subplot\u001b[0m\u001b[0;34m(\u001b[0m\u001b[0;36m111\u001b[0m\u001b[0;34m)\u001b[0m\u001b[0;34m\u001b[0m\u001b[0m\n\u001b[1;32m     10\u001b[0m \u001b[0max\u001b[0m\u001b[0;34m.\u001b[0m\u001b[0mplot\u001b[0m\u001b[0;34m(\u001b[0m\u001b[0mxsv\u001b[0m\u001b[0;34m,\u001b[0m\u001b[0mysv\u001b[0m\u001b[0;34m,\u001b[0m\u001b[0;34m'-'\u001b[0m\u001b[0;34m)\u001b[0m\u001b[0;34m\u001b[0m\u001b[0m\n",
      "\u001b[0;31mNameError\u001b[0m: name 'xy_vertex_values' is not defined"
     ]
    }
   ],
   "source": [
    "mode_theta = Function(V)\n",
    "for i in range(n_eigen):\n",
    "    lambda_r, lambda_im, X_r, X_im = eigensolver.get_eigenpair(i)\n",
    "    mode_theta.vector()[:] = X_r\n",
    "    myfile << (mode_theta, float(i))\n",
    "    print('eigenvalue %s = %s'%(i, lambda_r))"
   ]
  }
 ],
 "metadata": {
  "kernelspec": {
   "display_name": "Python 2",
   "language": "python",
   "name": "python2"
  },
  "language_info": {
   "codemirror_mode": {
    "name": "ipython",
    "version": 2
   },
   "file_extension": ".py",
   "mimetype": "text/x-python",
   "name": "python",
   "nbconvert_exporter": "python",
   "pygments_lexer": "ipython2",
   "version": "2.7.12"
  }
 },
 "nbformat": 4,
 "nbformat_minor": 0
}
