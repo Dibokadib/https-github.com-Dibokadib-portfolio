{
 "cells": [
  {
   "cell_type": "code",
   "execution_count": 16,
   "id": "98b004ca-dd96-459e-98fc-082baf9906d5",
   "metadata": {},
   "outputs": [
    {
     "data": {
      "application/vnd.jupyter.widget-view+json": {
       "model_id": "257cac7c34c244fd9f53a31508e00ffb",
       "version_major": 2,
       "version_minor": 0
      },
      "text/plain": [
       "Widget(value='<iframe src=\"http://localhost:62320/index.html?ui=P_0x14e8462a0_0&reconnect=auto\" class=\"pyvista…"
      ]
     },
     "metadata": {},
     "output_type": "display_data"
    }
   ],
   "source": [
    "import numpy as np\n",
    "import pyvista as pv\n",
    "from mpi4py import MPI\n",
    "from dolfinx import mesh, plot, fem, io\n",
    "from petsc4py import PETSc\n",
    "import ufl\n",
    "from dolfinx.fem.petsc import NonlinearProblem\n",
    "from dolfinx.nls.petsc import NewtonSolver\n",
    "\n",
    "# Paramètres\n",
    "L2 = 0.12\n",
    "L1 = L2 / 10\n",
    "nx = 4\n",
    "ny = nx * int(L2 / L1)\n",
    "\n",
    "# Création du maillage rectangulaire\n",
    "domain = mesh.create_rectangle(MPI.COMM_WORLD, [np.array([0, 0]), np.array([L1, L2])], [nx, ny], cell_type=mesh.CellType.quadrilateral)\n",
    "\n",
    "# Expression d'imperfection\n",
    "class ImperfectionExpression:\n",
    "    def __init__(self, a, L2):\n",
    "        self.a = a\n",
    "        self.L2 = L2\n",
    "\n",
    "    def __call__(self, x):\n",
    "        values = np.zeros((x.shape[1], 2))  # Corriger la taille pour une déformation 2D\n",
    "        values[:, 0] = 4 * x[1, :] / self.L2 * (1 - x[1, :] / self.L2) * self.a\n",
    "        return values\n",
    "\n",
    "imperfection = ImperfectionExpression(0.1 * L1, L2)\n",
    "\n",
    "# Déplacement des points du maillage\n",
    "def move_mesh(mesh, imperfection):\n",
    "    x = mesh.geometry.x\n",
    "    x[:, :2] += imperfection(x.T)  # Ajuster pour 2D\n",
    "\n",
    "move_mesh(domain, imperfection)\n",
    "\n",
    "# Tracé du maillage en utilisant PyVista\n",
    "plotter = pv.Plotter()\n",
    "topology, cell_types, geometry = plot.vtk_mesh(domain)\n",
    "grid = pv.UnstructuredGrid(topology, cell_types, geometry)\n",
    "plotter.add_mesh(grid, show_edges=True)\n",
    "plotter.add_text(\"Maillage du domaine\", font_size=12, color=\"grey\", position=\"upper_edge\")\n",
    "plotter.show_bounds(color=\"grey\")\n",
    "plotter.add_axes(color=\"grey\")\n",
    "plotter.set_background(\"black\")\n",
    "plotter.show()"
   ]
  },
  {
   "cell_type": "code",
   "execution_count": 17,
   "id": "0789602e-0573-40cd-bc42-84468fa4c008",
   "metadata": {},
   "outputs": [],
   "source": [
    "plotter.view_xy() # Vue XY (vue par défaut)"
   ]
  },
  {
   "cell_type": "code",
   "execution_count": 18,
   "id": "6062a856-13d9-48f3-b5da-36d223e3eb22",
   "metadata": {},
   "outputs": [],
   "source": [
    "# Définir l'espace fonctionnel et les fonctions\n",
    "element = (\"Lagrange\", 1, (domain.geometry.dim,))  # Utilisation correcte de la spécification des éléments\n",
    "V = fem.functionspace(domain, element)\n",
    "\n",
    "u = fem.Function(V)  # Fonction solution\n",
    "ut = ufl.TestFunction(V)  # Fonction test\n",
    "delta_u = ufl.TrialFunction(V)  # Fonction trial\n",
    "\n",
    "# Paramètres de l'élasticité\n",
    "E1, nu = 1.3e6, 0.45\n",
    "lmbda = E1 * nu / ((1 + nu) * (1 - 2 * nu))\n",
    "mu = E1 / (2 * (1 + nu))\n",
    "\n",
    "# Définir l'énergie de déformation\n",
    "Id = ufl.Identity(2)\n",
    "F = Id + ufl.grad(u)  # Déformation\n",
    "C = F.T * F  # Cauchy-Green tensor\n",
    "E = 0.5 * (C - Id)  # Green-Lagrange strain tensor\n",
    "J = ufl.det(F)  # Déterminant de la déformation\n",
    "W2 = mu / 2 * (ufl.inner(F, F) - 3) - 2 * mu * ufl.ln(J) + lmbda / 2 * (ufl.ln(J)) ** 2  # Energie de déformation\n",
    "energy = W2 * ufl.dx  # Forme variationnelle\n",
    "\n",
    "# Calculer les dérivés\n",
    "energy_u = ufl.derivative(energy, u, ut)  # Premier dérivé\n",
    "energy_uu = ufl.derivative(energy_u, u, delta_u)  # Deuxième dérivé\n",
    "\n",
    "# Condition aux limites en bas (encastrement)\n",
    "u_D1 = fem.Constant(domain, PETSc.ScalarType((0.0, 0.0)))\n",
    "bc1_dofs = fem.locate_dofs_geometrical(V, lambda x: np.isclose(x[1], 0.0) & (x[1] <= 1.e-8))\n",
    "bc1 = fem.dirichletbc(u_D1, bc1_dofs, V)\n",
    "\n",
    "# Condition aux limites en haut (déplacement imposé)\n",
    "u_D2 = fem.Function(V)\n",
    "u_D2.interpolate(lambda x: np.vstack((np.zeros_like(x[0]), -0.01 * np.ones_like(x[0]))))\n",
    "bc2_dofs = fem.locate_dofs_geometrical(V, lambda x: np.isclose(x[1], L2) & (x[1] >= L2 - 1.e-8))\n",
    "bc2 = fem.dirichletbc(u_D2, bc2_dofs)\n",
    "\n",
    "# Liste des conditions aux limites\n",
    "bcs = [bc1, bc2]"
   ]
  },
  {
   "cell_type": "code",
   "execution_count": 19,
   "id": "5a0673bb-675d-4132-8387-537c44209511",
   "metadata": {},
   "outputs": [
    {
     "data": {
      "application/vnd.jupyter.widget-view+json": {
       "model_id": "a86cd112a710465fb81b73194f7fab9d",
       "version_major": 2,
       "version_minor": 0
      },
      "text/plain": [
       "Widget(value='<iframe src=\"http://localhost:62320/index.html?ui=P_0x1783d51c0_1&reconnect=auto\" class=\"pyvista…"
      ]
     },
     "metadata": {},
     "output_type": "display_data"
    },
    {
     "data": {
      "image/png": "[encoded data removed]",
      "text/plain": [
       "<Figure size 640x480 with 1 Axes>"
      ]
     },
     "metadata": {},
     "output_type": "display_data"
    }
   ],
   "source": [
    "# Définir et résoudre le problème non linéaire\n",
    "problem = NonlinearProblem(energy_u, u, bcs, J=energy_uu)\n",
    "solver = NewtonSolver(MPI.COMM_WORLD, problem)\n",
    "\n",
    "# Augmenter le nombre d'itérations et ajuster la tolérance si nécessaire\n",
    "solver.atol = 1e-6\n",
    "solver.rtol = 1e-6\n",
    "solver.max_it = 1000\n",
    "\n",
    "# Définir la charge croissante\n",
    "loadings = np.linspace(0, L2 / 10.0, 101)\n",
    "out = np.zeros_like(loadings)\n",
    "\n",
    "# Fichier de sortie pour Paraview\n",
    "xdmf_file = io.XDMFFile(MPI.COMM_WORLD, \"disp.xdmf\", \"w\")\n",
    "xdmf_file.write_mesh(domain)\n",
    "\n",
    "# Boucle de chargement\n",
    "for (i, load) in enumerate(loadings):\n",
    "    u_D2.vector.set(0.0)\n",
    "    u_D2.interpolate(lambda x: np.vstack((np.zeros_like(x[0]), -load * np.ones_like(x[0]))))\n",
    "    bc2 = fem.dirichletbc(u_D2, bc2_dofs)\n",
    "\n",
    "    try:\n",
    "        # Résoudre le problème\n",
    "        n_iter, converged = solver.solve(u)\n",
    "        if not converged:\n",
    "            print(f\"Load step {i}, load {load}: Solver did not converge\")\n",
    "            break\n",
    "\n",
    "        # Enregistrer le déplacement au centre du domaine\n",
    "        point = np.array([[L1 / 2, L2 / 2, 0]])\n",
    "        cell_candidates = mesh.locate_entities(domain, domain.topology.dim, lambda x: np.isclose(x[0], L1 / 2) & np.isclose(x[1], L2 / 2))\n",
    "        cell = cell_candidates[0] if cell_candidates.size > 0 else -1\n",
    "        outdisp = u.eval(point, cell)\n",
    "        out[i] = outdisp[1]\n",
    "\n",
    "        # Enregistrer la solution dans le fichier XDMF\n",
    "        xdmf_file.write_function(u, load)\n",
    "    except RuntimeError as e:\n",
    "        print(f\"Erreur de résolution à l'étape de charge {i}, charge {load} : {e}\")\n",
    "        break\n",
    "\n",
    "xdmf_file.close()\n",
    "\n",
    "# Visualisation du résultat final\n",
    "plotter = pv.Plotter()\n",
    "topology, cell_types, geometry = plot.vtk_mesh(domain)\n",
    "grid = pv.UnstructuredGrid(topology, cell_types, geometry)\n",
    "grid.point_data[\"Displacement\"] = u.x.array.reshape((geometry.shape[0], 2))\n",
    "warped = grid.warp_by_scalar(\"Displacement\", factor=1.0)\n",
    "plotter.add_mesh(warped, show_edges=True)\n",
    "plotter.add_text(\"Déformée du maillage\", font_size=12, color=\"grey\", position=\"upper_edge\")\n",
    "plotter.show_bounds(color=\"grey\")\n",
    "plotter.add_axes(color=\"grey\")\n",
    "plotter.set_background(\"black\")\n",
    "plotter.show()\n",
    "\n",
    "# Tracer le déplacement en fonction de la charge\n",
    "import matplotlib.pyplot as plt\n",
    "plt.plot(loadings, out, marker='o')\n",
    "plt.xlabel('Charge')\n",
    "plt.ylabel('Déplacement au centre')\n",
    "plt.title('Déplacement en fonction de la charge')\n",
    "plt.grid(True)\n",
    "plt.show()"
   ]
  },
  {
   "cell_type": "code",
   "execution_count": 20,
   "id": "f9b6eac1-d4b7-4404-a38e-154ddaa6263b",
   "metadata": {},
   "outputs": [
    {
     "data": {
      "application/vnd.jupyter.widget-view+json": {
       "model_id": "9b61f55f51424518b97d0e479046d865",
       "version_major": 2,
       "version_minor": 0
      },
      "text/plain": [
       "Widget(value='<iframe src=\"http://localhost:62320/index.html?ui=P_0x16d1f6510_2&reconnect=auto\" class=\"pyvista…"
      ]
     },
     "metadata": {},
     "output_type": "display_data"
    }
   ],
   "source": [
    "# Visualisation du résultat final\n",
    "plotter = pv.Plotter()\n",
    "topology, cell_types, geometry = plot.vtk_mesh(domain)\n",
    "grid = pv.UnstructuredGrid(topology, cell_types, geometry)\n",
    "grid.point_data[\"Displacement\"] = u.x.array.reshape((geometry.shape[0], 2))\n",
    "warped = grid.warp_by_scalar(\"Displacement\", factor=1.0)\n",
    "plotter.add_mesh(warped, show_edges=True)\n",
    "plotter.add_text(\"Déformée du maillage\", font_size=12, color=\"grey\", position=\"upper_edge\")\n",
    "plotter.show_bounds(color=\"grey\")\n",
    "plotter.add_axes(color=\"grey\")\n",
    "plotter.set_background(\"black\")\n",
    "plotter.show()"
   ]
  },
  {
   "cell_type": "code",
   "execution_count": 21,
   "id": "764df948-cbdd-447f-96e5-ba7fdf54b05c",
   "metadata": {},
   "outputs": [],
   "source": [
    "plotter.view_xy() # Vue XY (vue par défaut)"
   ]
  },
  {
   "cell_type": "code",
   "execution_count": null,
   "id": "d38a6b2f-c3d8-4af3-b21a-5cc2f3834cc5",
   "metadata": {},
   "outputs": [],
   "source": [
    "# Tracer le déplacement en fonction de la charge\n",
    "import matplotlib.pyplot as plt\n",
    "plt.plot(loadings, out, marker='o')\n",
    "plt.xlabel('Charge')\n",
    "plt.ylabel('Déplacement au centre')\n",
    "plt.title('Déplacement en fonction de la charge')\n",
    "plt.grid(True)\n",
    "plt.show()"
   ]
  },
  {
   "cell_type": "code",
   "execution_count": 22,
   "id": "22be411b-b3ef-4d62-a6ae-8277c36d0a71",
   "metadata": {},
   "outputs": [
    {
     "name": "stdout",
     "output_type": "stream",
     "text": [
      "[0.      0.00012 0.00024 0.00036 0.00048 0.0006  0.00072 0.00084 0.00096\n",
      " 0.00108 0.0012  0.00132 0.00144 0.00156 0.00168 0.0018  0.00192 0.00204\n",
      " 0.00216 0.00228 0.0024  0.00252 0.00264 0.00276 0.00288 0.003   0.00312\n",
      " 0.00324 0.00336 0.00348 0.0036  0.00372 0.00384 0.00396 0.00408 0.0042\n",
      " 0.00432 0.00444 0.00456 0.00468 0.0048  0.00492 0.00504 0.00516 0.00528\n",
      " 0.0054  0.00552 0.00564 0.00576 0.00588 0.006   0.00612 0.00624 0.00636\n",
      " 0.00648 0.0066  0.00672 0.00684 0.00696 0.00708 0.0072  0.00732 0.00744\n",
      " 0.00756 0.00768 0.0078  0.00792 0.00804 0.00816 0.00828 0.0084  0.00852\n",
      " 0.00864 0.00876 0.00888 0.009   0.00912 0.00924 0.00936 0.00948 0.0096\n",
      " 0.00972 0.00984 0.00996 0.01008 0.0102  0.01032 0.01044 0.01056 0.01068\n",
      " 0.0108  0.01092 0.01104 0.01116 0.01128 0.0114  0.01152 0.01164 0.01176\n",
      " 0.01188 0.012  ]\n"
     ]
    }
   ],
   "source": [
    "import numpy as np\n",
    "print(np.linspace(0, 0.12 / 10.0, 101))"
   ]
  },
  {
   "cell_type": "code",
   "execution_count": null,
   "id": "552d08de-4a36-488d-be43-643c242df296",
   "metadata": {},
   "outputs": [],
   "source": []
  },
  {
   "cell_type": "code",
   "execution_count": null,
   "id": "72f0e836-f5c1-441a-b47f-56cb4e64961f",
   "metadata": {},
   "outputs": [],
   "source": []
  }
 ],
 "metadata": {
  "kernelspec": {
   "display_name": "Python 3 (ipykernel)",
   "language": "python",
   "name": "python3"
  },
  "language_info": {
   "codemirror_mode": {
    "name": "ipython",
    "version": 3
   },
   "file_extension": ".py",
   "mimetype": "text/x-python",
   "name": "python",
   "nbconvert_exporter": "python",
   "pygments_lexer": "ipython3",
   "version": "3.12.4"
  }
 },
 "nbformat": 4,
 "nbformat_minor": 5
}
