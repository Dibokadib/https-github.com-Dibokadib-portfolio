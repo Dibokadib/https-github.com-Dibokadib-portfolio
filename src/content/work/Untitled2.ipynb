{
 "cells": [
  {
   "cell_type": "code",
   "execution_count": 4,
   "id": "dea3d8ca-814a-43be-9957-e9c0498304a6",
   "metadata": {},
   "outputs": [
    {
     "ename": "RuntimeError",
     "evalue": "Rank mis-match between Constant and function space in DirichletBC",
     "output_type": "error",
     "traceback": [
      "\u001b[0;31m---------------------------------------------------------------------------\u001b[0m",
      "\u001b[0;31mTypeError\u001b[0m                                 Traceback (most recent call last)",
      "File \u001b[0;32m/opt/anaconda3/envs/fenicsx-env/lib/python3.12/site-packages/dolfinx/fem/bcs.py:187\u001b[0m, in \u001b[0;36mdirichletbc\u001b[0;34m(value, dofs, V)\u001b[0m\n\u001b[1;32m    186\u001b[0m \u001b[38;5;28;01mtry\u001b[39;00m:\n\u001b[0;32m--> 187\u001b[0m     bc \u001b[38;5;241m=\u001b[39m \u001b[43mbctype\u001b[49m\u001b[43m(\u001b[49m\u001b[43m_value\u001b[49m\u001b[43m,\u001b[49m\u001b[43m \u001b[49m\u001b[43mdofs\u001b[49m\u001b[43m,\u001b[49m\u001b[43m \u001b[49m\u001b[43mV\u001b[49m\u001b[43m)\u001b[49m\n\u001b[1;32m    188\u001b[0m \u001b[38;5;28;01mexcept\u001b[39;00m \u001b[38;5;167;01mTypeError\u001b[39;00m:\n",
      "\u001b[0;31mTypeError\u001b[0m: __init__(): incompatible function arguments. The following argument types are supported:\n    1. __init__(self, g: ndarray[dtype=float64, writable=False, order='C'], dofs: ndarray[dtype=int32, writable=False, shape=(*), order='C'], V: dolfinx.cpp.fem.FunctionSpace_float64) -> None\n    2. __init__(self, g: dolfinx.cpp.fem.Constant_float64, dofs: ndarray[dtype=int32, writable=False, shape=(*), order='C'], V: dolfinx.cpp.fem.FunctionSpace_float64) -> None\n    3. __init__(self, g: dolfinx.cpp.fem.Function_float64, dofs: ndarray[dtype=int32, writable=False, shape=(*), order='C']) -> None\n    4. __init__(self, g: dolfinx.cpp.fem.Function_float64, dofs: list[ndarray[dtype=int32, writable=False, shape=(*), order='C']], V: dolfinx.cpp.fem.FunctionSpace_float64) -> None\n\nInvoked with types: dolfinx.cpp.fem.DirichletBC_float64, ndarray, ndarray, dolfinx.fem.function.FunctionSpace",
      "\nDuring handling of the above exception, another exception occurred:\n",
      "\u001b[0;31mRuntimeError\u001b[0m                              Traceback (most recent call last)",
      "Cell \u001b[0;32mIn[4], line 36\u001b[0m\n\u001b[1;32m     34\u001b[0m u_bc \u001b[38;5;241m=\u001b[39m np\u001b[38;5;241m.\u001b[39marray((\u001b[38;5;241m0\u001b[39m,) \u001b[38;5;241m*\u001b[39m domain\u001b[38;5;241m.\u001b[39mgeometry\u001b[38;5;241m.\u001b[39mdim, dtype\u001b[38;5;241m=\u001b[39mPETSc\u001b[38;5;241m.\u001b[39mScalarType)\n\u001b[1;32m     35\u001b[0m left_dofs \u001b[38;5;241m=\u001b[39m fem\u001b[38;5;241m.\u001b[39mlocate_dofs_topological(V,facet_tag\u001b[38;5;241m.\u001b[39mdim, facet_tag\u001b[38;5;241m.\u001b[39mfind(\u001b[38;5;241m1\u001b[39m))\n\u001b[0;32m---> 36\u001b[0m bc_l \u001b[38;5;241m=\u001b[39m \u001b[43mfem\u001b[49m\u001b[38;5;241;43m.\u001b[39;49m\u001b[43mdirichletbc\u001b[49m\u001b[43m(\u001b[49m\u001b[43mu_bc\u001b[49m\u001b[43m,\u001b[49m\u001b[43m \u001b[49m\u001b[43mleft_dofs\u001b[49m\u001b[43m,\u001b[49m\u001b[43m \u001b[49m\u001b[43mV\u001b[49m\u001b[43m)\u001b[49m\n\u001b[1;32m     39\u001b[0m \u001b[38;5;66;03m# B.C on the right side = a function to interpolate\u001b[39;00m\n\u001b[1;32m     40\u001b[0m \u001b[38;5;28;01mimport\u001b[39;00m \u001b[38;5;21;01mnumpy\u001b[39;00m \u001b[38;5;28;01mas\u001b[39;00m \u001b[38;5;21;01mnp\u001b[39;00m\n",
      "File \u001b[0;32m/opt/anaconda3/envs/fenicsx-env/lib/python3.12/site-packages/dolfinx/fem/bcs.py:189\u001b[0m, in \u001b[0;36mdirichletbc\u001b[0;34m(value, dofs, V)\u001b[0m\n\u001b[1;32m    187\u001b[0m         bc \u001b[38;5;241m=\u001b[39m bctype(_value, dofs, V)\n\u001b[1;32m    188\u001b[0m     \u001b[38;5;28;01mexcept\u001b[39;00m \u001b[38;5;167;01mTypeError\u001b[39;00m:\n\u001b[0;32m--> 189\u001b[0m         bc \u001b[38;5;241m=\u001b[39m \u001b[43mbctype\u001b[49m\u001b[43m(\u001b[49m\u001b[43m_value\u001b[49m\u001b[43m,\u001b[49m\u001b[43m \u001b[49m\u001b[43mdofs\u001b[49m\u001b[43m,\u001b[49m\u001b[43m \u001b[49m\u001b[43mV\u001b[49m\u001b[38;5;241;43m.\u001b[39;49m\u001b[43m_cpp_object\u001b[49m\u001b[43m)\u001b[49m\n\u001b[1;32m    190\u001b[0m \u001b[38;5;28;01melse\u001b[39;00m:\n\u001b[1;32m    191\u001b[0m     bc \u001b[38;5;241m=\u001b[39m bctype(_value, dofs)\n",
      "\u001b[0;31mRuntimeError\u001b[0m: Rank mis-match between Constant and function space in DirichletBC"
     ]
    }
   ],
   "source": [
    "import numpy as np\n",
    "import ufl\n",
    "\n",
    "from petsc4py import PETSc\n",
    "from mpi4py import MPI\n",
    "from dolfinx import fem, mesh, plot\n",
    "from dolfinx.fem import Function, FunctionSpace, Constant\n",
    "from ufl import TestFunction, dx, inner\n",
    "\n",
    "\n",
    "L = 20.0\n",
    "domain = mesh.create_box(MPI.COMM_WORLD,[[0.0,0.0,0.0],[L,1,1]],[20,5,5], mesh.CellType.hexahedron)\n",
    "V = fem.functionspace(domain, (\"CG\", 2))\n",
    "\n",
    "def left(x):\n",
    "    return np.isclose(x[0], 0)\n",
    "\n",
    "def right(x):\n",
    "    return np.isclose(x[0], L)\n",
    "\n",
    "fdim = domain.topology.dim -1\n",
    "left_facets = mesh.locate_entities_boundary(domain, fdim, left)\n",
    "right_facets = mesh.locate_entities_boundary(domain, fdim, right)\n",
    "\n",
    "# Concatenate and sort the arrays based on facet indices. Left facets marked with 1, right facets with 2.as_integer_ratio\n",
    "marked_facets = np.hstack([left_facets,right_facets])\n",
    "\n",
    "\n",
    "marked_values = np.hstack([np.full_like(left_facets,1), np.full_like(right_facets,2)])\n",
    "sorted_facets = np.argsort(marked_facets)\n",
    "facet_tag = mesh.meshtags(domain, fdim, marked_facets[sorted_facets],marked_values[sorted_facets])\n",
    "\n",
    "# boundary condition on the left side: fixed\n",
    "u_bc = np.array((0,) * domain.geometry.dim, dtype=PETSc.ScalarType)\n",
    "left_dofs = fem.locate_dofs_topological(V,facet_tag.dim, facet_tag.find(1))\n",
    "bc_l = fem.dirichletbc(u_bc, left_dofs, V)\n",
    "\n",
    "\n",
    "# B.C on the right side = a function to interpolate\n",
    "import numpy as np\n",
    "import ufl\n",
    "\n",
    "from petsc4py import PETSc\n",
    "from mpi4py import MPI\n",
    "from dolfinx import fem, mesh, plot\n",
    "from dolfinx.fem import Function, FunctionSpace, Constant\n",
    "from ufl import TestFunction, dx, inner\n",
    "\n",
    "from mpi4py import MPI\n",
    "scale = 0.5\n",
    "y0 = 0.5\n",
    "z0 = 0.5\n",
    "\n",
    "class MyExpression:\n",
    "    def __init__(self):\n",
    "        self.theta = np.pi/3\n",
    "\n",
    "    def eval(self, x):\n",
    "        return  (np.zeros_like(x[1]),\n",
    "                 scale * (y0 + (x[1] - y0) * np.cos(self.theta) - (x[2] - z0) * np.sin(self.theta) - x[1]),\n",
    "                 scale * (z0 + (x[1] - y0) * np.sin(self.theta) + (x[2] - z0) * np.cos(self.theta) - x[2]))\n",
    "\n",
    "f = MyExpression()    \n",
    "u_D = Function(V)\n",
    "u_D.interpolate(f.eval)\n",
    "\n",
    "# implement this function as DirichletBC at the right side of the beam\n",
    "right_dofs = fem.locate_dofs_topological(V,facet_tag.dim, facet_tag.find(2))\n",
    "bc_r = fem.dirichletbc(u_D,right_dofs, V)\n",
    "bcs =  [bc_l, bc_r]"
   ]
  },
  {
   "cell_type": "code",
   "execution_count": null,
   "id": "262fb5cc-9f46-49f8-b64d-50a91f2ac1da",
   "metadata": {},
   "outputs": [],
   "source": []
  }
 ],
 "metadata": {
  "kernelspec": {
   "display_name": "Python 3 (ipykernel)",
   "language": "python",
   "name": "python3"
  },
  "language_info": {
   "codemirror_mode": {
    "name": "ipython",
    "version": 3
   },
   "file_extension": ".py",
   "mimetype": "text/x-python",
   "name": "python",
   "nbconvert_exporter": "python",
   "pygments_lexer": "ipython3",
   "version": "3.12.4"
  }
 },
 "nbformat": 4,
 "nbformat_minor": 5
}
