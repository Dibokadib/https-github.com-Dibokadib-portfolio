{
 "cells": [
  {
   "cell_type": "code",
   "execution_count": 1,
   "id": "644508ce-7b9a-4b16-b592-7ef65e32591e",
   "metadata": {},
   "outputs": [],
   "source": [
    "# Scaled variable\n",
    "import pyvista\n",
    "from dolfinx import mesh, fem, plot, io, default_scalar_type\n",
    "from dolfinx.fem.petsc import LinearProblem\n",
    "from mpi4py import MPI\n",
    "import ufl\n",
    "import numpy as np"
   ]
  },
  {
   "cell_type": "code",
   "execution_count": 2,
   "id": "32e24c6c-5fb8-41dd-8414-39c374af7747",
   "metadata": {},
   "outputs": [
    {
     "name": "stdout",
     "output_type": "stream",
     "text": [
      "E1hom = 18009385971.160084\n",
      "E2hom = 18009385971.160084\n",
      "G12hom = 8157399399.518665\n",
      "nu12hom = 0.10386810116363444\n",
      "Chom = [[1.82058008e+10 1.89100195e+09 0.00000000e+00]\n",
      " [1.89100195e+09 1.82058008e+10 0.00000000e+00]\n",
      " [0.00000000e+00 0.00000000e+00 8.15739940e+09]]\n"
     ]
    }
   ],
   "source": [
    "#-------------------------------------------------------------------------%\n",
    "#                Constantes de l'ingenieur homogénéisé\n",
    "#-------------------------------------------------------------------------%\n",
    "E1 = 181e9\n",
    "E2 = 10.3e9\n",
    "nu12 = 0.28\n",
    "G12 = 7.17e9\n",
    "eta121 = 0\n",
    "eta122 = 0\n",
    "\n",
    "# Epaisseur pli\n",
    "hel = 1e-3\n",
    "\n",
    "# Sequence\n",
    "seq = np.array([22.5, -67.5, -67.5, 22.5, -22.5, 67.5, 67.5, -22.5]) * np.pi / 180\n",
    "\n",
    "# Nombre total N de couches\n",
    "N = len(seq)\n",
    "\n",
    "# Epaisseur totale\n",
    "htot = N * hel\n",
    "\n",
    "# Tenseur de souplesse\n",
    "S = np.zeros((3, 3))\n",
    "S[0, 0] = 1 / E1\n",
    "S[1, 1] = 1 / E2\n",
    "S[2, 2] = 1 / G12\n",
    "S[0, 1] = -nu12 / E1\n",
    "S[0, 2] = eta121 * S[0, 0]\n",
    "S[1, 2] = eta122 * S[1, 1]\n",
    "S[1, 0] = S[0, 1]\n",
    "S[2, 0] = S[0, 2]\n",
    "S[2, 1] = S[1, 2]\n",
    "\n",
    "# Paramètres polaires du tenseur S\n",
    "t0 = (S[0, 0] - 2 * S[0, 1] + S[2, 2] + S[1, 1]) / 8\n",
    "t1 = (S[0, 0] + 2 * S[0, 1] + S[1, 1]) / 8\n",
    "\n",
    "a0 = S[0, 0] - 2 * S[0, 1] - S[2, 2] + S[1, 1]\n",
    "b0 = 2 * (S[0, 2] - S[1, 2])\n",
    "r0 = np.sqrt(a0**2 + b0**2) / 8\n",
    "phi0 = np.arctan2(b0, a0) / 4\n",
    "\n",
    "a1 = S[0, 0] - S[1, 1]\n",
    "b1 = S[0, 2] + S[1, 2]\n",
    "r1 = np.sqrt(a1**2 + b1**2) / 8\n",
    "phi1 = np.arctan2(b1, a1) / 2\n",
    "\n",
    "# Angle polaire\n",
    "d = np.arange(0.01, 2 * np.pi, np.pi / 180)\n",
    "\n",
    "# Tenseur de souplesse polaire\n",
    "Sxx = t0 + 2 * t1 + r0 * np.cos(4 * (phi0 - d)) + 4 * r1 * np.cos(2 * (phi1 - d))\n",
    "Syy = t0 + 2 * t1 + r0 * np.cos(4 * (phi0 - d)) - 4 * r1 * np.cos(2 * (phi1 - d))\n",
    "Sss = 4 * (t0 - r0 * np.cos(4 * (phi0 - d)))\n",
    "Sxy = -t0 + 2 * t1 - r0 * np.cos(4 * (phi0 - d))\n",
    "Sxs = 2 * (r0 * np.sin(4 * (phi0 - d)) + 2 * r1 * np.sin(2 * (phi1 - d)))\n",
    "Sys = 2 * (-r0 * np.sin(4 * (phi0 - d)) + 2 * r1 * np.sin(2 * (phi1 - d)))\n",
    "\n",
    "theta = np.arange(0, 2 * np.pi, np.pi / 180)\n",
    "\n",
    "## a etoile\n",
    "t0ax = t0\n",
    "t1ax = t1\n",
    "\n",
    "re0a = 0\n",
    "im0a = 0\n",
    "re1a = 0\n",
    "im1a = 0\n",
    "\n",
    "for k in range(-N//2, N//2 + 1):\n",
    "    if N % 2 == 0 and k == N//2:\n",
    "        continue\n",
    "    l = k + N//2\n",
    "    c4 = np.cos(4 * seq[l])\n",
    "    s4 = np.sin(4 * seq[l])\n",
    "    c2 = np.cos(2 * seq[l])\n",
    "    s2 = np.sin(2 * seq[l])\n",
    "    re0a += (1. / N) * r0 * (np.cos(4 * phi0) * c4 - np.sin(4 * phi0) * s4)\n",
    "    im0a += (1. / N) * r0 * (np.cos(4 * phi0) * s4 + np.sin(4 * phi0) * c4)\n",
    "    re1a += (1. / N) * r1 * (np.cos(2 * phi1) * c2 - np.sin(2 * phi1) * s2)\n",
    "    im1a += (1. / N) * r1 * (np.cos(2 * phi1) * s2 + np.sin(2 * phi1) * c2)\n",
    "\n",
    "r0ax = np.sqrt(re0a**2 + im0a**2)\n",
    "phi0ax = np.arctan2(im0a, re0a) / 4\n",
    "\n",
    "r1ax = np.sqrt(re1a**2 + im1a**2)\n",
    "phi1ax = np.arctan2(im1a, re1a) / 2\n",
    "\n",
    "## d etoile\n",
    "dk = np.zeros(N)\n",
    "\n",
    "t0dx = t0\n",
    "t1dx = t1\n",
    "\n",
    "re0d = 0\n",
    "im0d = 0\n",
    "re1d = 0\n",
    "im1d = 0\n",
    "\n",
    "for k in range(-N//2, N//2 ):\n",
    "    if N % 2 == 0:\n",
    "        if k >= 0:\n",
    "            l = k + N//2\n",
    "        else:\n",
    "            l = k + N//2 + 1\n",
    "        if k == 0:\n",
    "            dk = 0\n",
    "        else:\n",
    "            dk = 12 * (k)**2 - 12 * abs(k) + 4  # k=2p paire\n",
    "    else:\n",
    "        l = k + N//2 + 1\n",
    "        dk = 12 * k**2 + 1  # k=2p+1 impaire\n",
    "\n",
    "    c4 = np.cos(4 * seq[l])\n",
    "    s4 = np.sin(4 * seq[l])\n",
    "    c2 = np.cos(2 * seq[l])\n",
    "    s2 = np.sin(2 * seq[l])\n",
    "\n",
    "    re0d += (1. / N**3) * dk * r0 * (np.cos(4 * phi0) * c4 - np.sin(4 * phi0) * s4)\n",
    "    im0d += (1. / N**3) * dk * r0 * (np.cos(4 * phi0) * s4 + np.sin(4 * phi0) * c4)\n",
    "    re1d += (1. / N**3) * dk * r1 * (np.cos(2 * phi1) * c2 - np.sin(2 * phi1) * s2)\n",
    "    im1d += (1. / N**3) * dk * r1 * (np.cos(2 * phi1) * s2 + np.sin(2 * phi1) * c2)\n",
    "\n",
    "r0dx = np.sqrt(re0d**2 + im0d**2)\n",
    "phi0dx = np.arctan2(im0d, re0d) / 4\n",
    "\n",
    "r1dx = np.sqrt(re1d**2 + im1d**2)\n",
    "phi1dx = np.arctan2(im1d, re1d) / 2\n",
    "\n",
    "# Module de young Ex en dehors des axes d'orthotropie\n",
    "axx = t0ax + 2 * t1ax + r0ax * np.cos(4 * (phi0ax - theta)) + 4 * r1ax * np.cos(2 * (phi1ax - theta))\n",
    "ayy = t0ax + 2 * t1ax + r0ax * np.cos(4 * (phi0ax - theta)) - 4 * r1ax * np.cos(2 * (phi1ax - theta))\n",
    "dxx = t0dx + 2 * t1dx + r0dx * np.cos(4 * (phi0dx - theta)) + 4 * r1dx * np.cos(2 * (phi1dx - theta))\n",
    "dyy = t0dx + 2 * t1dx + r0dx * np.cos(4 * (phi0dx - theta)) - 4 * r1dx * np.cos(2 * (phi1dx - theta))\n",
    "axy = -t0ax + 2 * t1ax - r0ax * np.cos(4 * (phi0ax - theta))\n",
    "ayx = -t0ax + 2 * t1ax - r0ax * np.cos(4 * (phi0ax - theta))\n",
    "\n",
    "# Module de cisaillement Gx en dehors des axes d'orthotropie (pourquoi x4?)\n",
    "ass = 4 * (t0ax - r0ax * np.cos(4 * (phi0ax - theta)))\n",
    "dss = 4 * (t0dx - r0dx * np.cos(4 * (phi0dx - theta)))\n",
    "\n",
    "# Méthode pour avoir le monocouche\n",
    "E1hom = 1. / axx[0]\n",
    "E2hom = 1. / axx[90]\n",
    "G12hom = 1. / ass[0]\n",
    "nu12hom = -E1hom * axy[0]\n",
    "eta121hom = 0\n",
    "eta122hom = 0\n",
    "\n",
    "# Tenseur de souplesse monocouche\n",
    "Shom = np.zeros((3, 3))\n",
    "Shom[0, 0] = 1 / E1hom\n",
    "Shom[1, 1] = 1 / E2hom\n",
    "Shom[2, 2] = 1 / G12hom\n",
    "Shom[0, 1] = -nu12hom / E1hom\n",
    "Shom[0, 2] = eta121hom * S[0, 0]\n",
    "Shom[1, 2] = eta122hom * S[1, 1]\n",
    "Shom[1, 0] = Shom[0, 1]\n",
    "Shom[2, 0] = Shom[0, 2]\n",
    "Shom[2, 1] = Shom[1, 2]\n",
    "\n",
    "Chom = np.linalg.inv(Shom)\n",
    "\n",
    "# Affichage des résultats\n",
    "print(\"E1hom =\", E1hom)\n",
    "print(\"E2hom =\", E2hom)\n",
    "print(\"G12hom =\", G12hom)\n",
    "print(\"nu12hom =\", nu12hom)\n",
    "print(\"Chom =\", Chom)"
   ]
  },
  {
   "cell_type": "code",
   "execution_count": 3,
   "id": "4fa4eaa4-bfa0-4184-9dac-40301d4ef42f",
   "metadata": {},
   "outputs": [
    {
     "name": "stdout",
     "output_type": "stream",
     "text": [
      "[[[[1.82058008e+10 0.00000000e+00]\n",
      "   [0.00000000e+00 1.89100195e+09]]\n",
      "\n",
      "  [[0.00000000e+00 8.15739940e+09]\n",
      "   [0.00000000e+00 0.00000000e+00]]]\n",
      "\n",
      "\n",
      " [[[0.00000000e+00 0.00000000e+00]\n",
      "   [8.15739940e+09 0.00000000e+00]]\n",
      "\n",
      "  [[1.89100195e+09 0.00000000e+00]\n",
      "   [0.00000000e+00 1.82058008e+10]]]]\n"
     ]
    }
   ],
   "source": [
    "# Définir la matrice de rigidité comme un tenseur de quatrième ordre\n",
    "C_ijkl = np.zeros((2, 2, 2, 2))\n",
    "C_ijkl[0, 0, 0, 0] = Chom[0, 0]\n",
    "C_ijkl[0, 0, 1, 1] = Chom[0, 1]\n",
    "C_ijkl[1, 1, 0, 0] = Chom[1, 0]\n",
    "C_ijkl[1, 1, 1, 1] = Chom[1, 1]\n",
    "C_ijkl[0, 1, 0, 1] = Chom[2, 2]\n",
    "C_ijkl[1, 0, 1, 0] = Chom[2, 2]\n",
    "print(C_ijkl)"
   ]
  },
  {
   "cell_type": "code",
   "execution_count": 4,
   "id": "b365a44e-963f-48b9-966b-d06828a113bf",
   "metadata": {},
   "outputs": [],
   "source": [
    "L = 1\n",
    "W = 0.2\n",
    "\n",
    "domain = mesh.create_rectangle(MPI.COMM_WORLD, [np.array([0, 0]), np.array([L, W])],\n",
    "                          [20, 4], cell_type=mesh.CellType.quadrilateral)"
   ]
  },
  {
   "cell_type": "code",
   "execution_count": 5,
   "id": "f306c33e-1e3a-47a7-b51e-0ff941493981",
   "metadata": {},
   "outputs": [
    {
     "name": "stdout",
     "output_type": "stream",
     "text": [
      "Taille du bloc de l'espace fonctionnel V: 2\n",
      "Dimension de la géométrie: 2\n"
     ]
    }
   ],
   "source": [
    "# Définir les fonctions de forme et les fonctions test\n",
    "V = fem.functionspace(domain, (\"Lagrange\", 1, (domain.geometry.dim, )))\n",
    "# Afficher la taille du bloc de l'espace fonctionnel\n",
    "block_size = V.dofmap.index_map_bs\n",
    "print(f\"Taille du bloc de l'espace fonctionnel V: {block_size}\")\n",
    "print(f\"Dimension de la géométrie: {domain.geometry.dim}\")"
   ]
  },
  {
   "cell_type": "code",
   "execution_count": 6,
   "id": "d5c29889-33da-44be-a781-449de0685b1e",
   "metadata": {},
   "outputs": [],
   "source": [
    "u = ufl.TrialFunction(V)\n",
    "v = ufl.TestFunction(V)\n",
    "\n",
    "# Définir la déformation\n",
    "epsilon = ufl.sym(ufl.grad(u))\n",
    "\n",
    "# Définir la contrainte\n",
    "sigma = ufl.as_tensor([[sum(C_ijkl[i, j, k, l] * epsilon[k, l] for k in range(2) for l in range(2)) for j in range(2)] for i in range(2)])"
   ]
  },
  {
   "cell_type": "code",
   "execution_count": 7,
   "id": "870e1b4b-c727-4056-80b8-a65b644f049b",
   "metadata": {},
   "outputs": [
    {
     "name": "stdout",
     "output_type": "stream",
     "text": [
      "v_1\n",
      "v_0\n",
      "sym(grad(v_1))\n",
      "[\n",
      "  [18205800753.463 * (sym(grad(v_1)))[0, 0] + 1891001954.4256673 * (sym(grad(v_1)))[1, 1], 8157399399.518665 * (sym(grad(v_1)))[0, 1]],\n",
      "  [8157399399.518665 * (sym(grad(v_1)))[1, 0], 1891001954.4256673 * (sym(grad(v_1)))[0, 0] + 18205800753.463 * (sym(grad(v_1)))[1, 1]]\n",
      "]\n"
     ]
    }
   ],
   "source": [
    "print(u)\n",
    "print(v)\n",
    "print(epsilon)\n",
    "print(sigma)"
   ]
  },
  {
   "cell_type": "code",
   "execution_count": 8,
   "id": "960d3cc1-6738-4d3f-947e-64c5b006f9db",
   "metadata": {},
   "outputs": [],
   "source": [
    "# Localisation de la région encastrée\n",
    "def clamped_boundary(x):\n",
    "    return x[0] <= 0.1\n",
    "    \n",
    "fdim = domain.topology.dim - 1\n",
    "boundary_facets = mesh.locate_entities_boundary(domain, fdim, clamped_boundary)\n",
    "\n",
    "u_D = np.array([0, 0], dtype=default_scalar_type)\n",
    "bc = fem.dirichletbc(u_D, fem.locate_dofs_topological(V, fdim, boundary_facets), V)"
   ]
  },
  {
   "cell_type": "code",
   "execution_count": 9,
   "id": "e5644b76-8773-4e37-aa77-06b271079f0a",
   "metadata": {},
   "outputs": [
    {
     "name": "stdout",
     "output_type": "stream",
     "text": [
      "1\n",
      "[ 0  1  3  5  9 17 26 27]\n",
      "[0. 0.]\n",
      "<dolfinx.fem.bcs.DirichletBC object at 0x152019c40>\n"
     ]
    }
   ],
   "source": [
    "print(fdim)\n",
    "print(boundary_facets)\n",
    "print(u_D)\n",
    "print(bc)"
   ]
  },
  {
   "cell_type": "code",
   "execution_count": 10,
   "id": "33852860-3814-4f69-82aa-43d89f6f3a15",
   "metadata": {},
   "outputs": [],
   "source": [
    "T = fem.Constant(domain, default_scalar_type((-10000000, 0)))"
   ]
  },
  {
   "cell_type": "code",
   "execution_count": 11,
   "id": "f6cf76b2-df28-42f0-b661-d9e9c8227e6b",
   "metadata": {},
   "outputs": [
    {
     "name": "stdout",
     "output_type": "stream",
     "text": [
      "c_0\n"
     ]
    }
   ],
   "source": [
    "print(T)"
   ]
  },
  {
   "cell_type": "code",
   "execution_count": 12,
   "id": "2519f272-275c-44d1-873f-72a247e21184",
   "metadata": {},
   "outputs": [],
   "source": [
    "ds = ufl.Measure(\"ds\", domain=domain)"
   ]
  },
  {
   "cell_type": "code",
   "execution_count": 13,
   "id": "2c4d5b23-6d77-4d37-934a-f15799b6200f",
   "metadata": {},
   "outputs": [
    {
     "name": "stdout",
     "output_type": "stream",
     "text": [
      "ds(subdomain_id=everywhere, domain=<Mesh #0>)\n"
     ]
    }
   ],
   "source": [
    "print(ds)"
   ]
  },
  {
   "cell_type": "code",
   "execution_count": 14,
   "id": "1c8fce64-3167-42a9-8c64-4424ff2420d4",
   "metadata": {},
   "outputs": [],
   "source": [
    "# Force volumique (ici nulle)\n",
    "f = fem.Constant(domain, default_scalar_type((0, 0)))\n",
    "# Définir la forme bilinéaire pour le problème de l'élasticité\n",
    "a = ufl.inner(sigma, ufl.sym(ufl.grad(v))) * ufl.dx\n",
    "L = ufl.dot(f, v) * ufl.dx + ufl.dot(T, v) * ds"
   ]
  },
  {
   "cell_type": "code",
   "execution_count": 19,
   "id": "8bbdf3bc-495d-491b-82a5-b465c681b968",
   "metadata": {},
   "outputs": [
    {
     "data": {
      "text/plain": [
       "2"
      ]
     },
     "execution_count": 19,
     "metadata": {},
     "output_type": "execute_result"
    }
   ],
   "source": [
    "len(f)"
   ]
  },
  {
   "cell_type": "code",
   "execution_count": 16,
   "id": "f1939d94-2df7-4e1f-909b-1b16f423fe30",
   "metadata": {},
   "outputs": [],
   "source": [
    "# Définir le problème linéaire\n",
    "problem = LinearProblem(a, L, bcs=[bc], petsc_options={\"ksp_type\": \"preonly\", \"pc_type\": \"lu\"})\n",
    "# Résoudre le problème\n",
    "uh = problem.solve()"
   ]
  },
  {
   "cell_type": "code",
   "execution_count": 18,
   "id": "c8e94dcc-e865-4631-a932-2f936d57e321",
   "metadata": {},
   "outputs": [
    {
     "data": {
      "application/vnd.jupyter.widget-view+json": {
       "model_id": "60a51441d2834d4b9cd0046015d8cd7e",
       "version_major": 2,
       "version_minor": 0
      },
      "text/plain": [
       "Widget(value='<iframe src=\"http://localhost:64737/index.html?ui=P_0x149d241a0_1&reconnect=auto\" class=\"pyvista…"
      ]
     },
     "metadata": {},
     "output_type": "display_data"
    }
   ],
   "source": [
    "import numpy\n",
    "import pyvista as pv\n",
    "# Création du maillage pour PyVista basé sur les coordonnées des dofs\n",
    "u_topology, u_cell_types, u_geometry = plot.vtk_mesh(domain)\n",
    "\n",
    "# Créez la grille PyVista et ajoutez les valeurs des dofs à la grille\n",
    "u_grid = pv.UnstructuredGrid(u_topology, u_cell_types, u_geometry)\n",
    "\n",
    "# Adapter les vecteurs de déplacement en 3D pour PyVista (en ajoutant une troisième dimension de zéros)\n",
    "uh_vectors = np.zeros((u_geometry.shape[0], 3))\n",
    "uh_vectors[:, :2] = uh.x.array.reshape(-1, 2)\n",
    "\n",
    "# Ajouter les vecteurs de déplacement à la grille\n",
    "u_grid.point_data[\"u\"] = uh_vectors\n",
    "\n",
    "# Visualisation\n",
    "p = pv.Plotter()\n",
    "\n",
    "u_grid.point_data[\"u\"] = uh.x.array.reshape((u_geometry.shape[0], 2))\n",
    "warped = u_grid.warp_by_scalar(\"u\", factor=25)\n",
    "p.add_mesh(warped, show_edges=True, scalar_bar_args={\n",
    "    \"title\": \"u\",\n",
    "    \"title_font_size\": 24,\n",
    "    \"label_font_size\": 22,\n",
    "    \"shadow\": True,\n",
    "    \"italic\": True,\n",
    "    \"font_family\": \"arial\",\n",
    "    \"vertical\": False\n",
    "})\n",
    "p.add_text(\"Pâle Winckler\", font_size=12, color=\"black\", position=\"upper_edge\")\n",
    "p.show_bounds(color=\"black\")\n",
    "p.add_axes(color=\"black\")\n",
    "p.set_background(\"grey\")\n",
    "p.show()"
   ]
  }
 ],
 "metadata": {
  "kernelspec": {
   "display_name": "Python 3 (ipykernel)",
   "language": "python",
   "name": "python3"
  },
  "language_info": {
   "codemirror_mode": {
    "name": "ipython",
    "version": 3
   },
   "file_extension": ".py",
   "mimetype": "text/x-python",
   "name": "python",
   "nbconvert_exporter": "python",
   "pygments_lexer": "ipython3",
   "version": "3.12.4"
  }
 },
 "nbformat": 4,
 "nbformat_minor": 5
}
