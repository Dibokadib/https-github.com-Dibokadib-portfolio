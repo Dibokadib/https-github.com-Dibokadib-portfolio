{
 "cells": [
  {
   "cell_type": "markdown",
   "metadata": {},
   "source": [
    "# Post-buckling of a simply-supported beam\n",
    "\n",
    "In this notebook we show how to solve the problem of the buckling of the simply supported beam with built-in FEniCS feaures to solve nonlinear problem: automatic symbolic differentiation and newton solvers. \n",
    "\n",
    "The work asked in TP 2.2 is to provide your own implementation of the newton solver and to do not use automatic differentiation. This is to be able to understand in details the steps required to solve a nonlinear problem within a finite element code"
   ]
  },
  {
   "cell_type": "markdown",
   "metadata": {},
   "source": [
    "## Basic import and functions for plotting the shapes "
   ]
  },
  {
   "cell_type": "code",
   "execution_count": 3,
   "metadata": {
    "collapsed": true
   },
   "outputs": [],
   "source": [
    "from fenics import * \n",
    "parameters.plotting_backend = \"matplotlib\"\n",
    "%matplotlib inline\n",
    "import numpy as np\n",
    "import matplotlib.pyplot as plt"
   ]
  },
  {
   "cell_type": "markdown",
   "metadata": {},
   "source": [
    "The following functions are require to plot the shape $(x(s),y(s))$ given the field $\\theta(s)$ (see the TP text) "
   ]
  },
  {
   "cell_type": "code",
   "execution_count": 4,
   "metadata": {
    "collapsed": true
   },
   "outputs": [],
   "source": [
    "def xy_shape(theta):\n",
    "    VXY = VectorFunctionSpace(mesh,'P',1,dim = 2)\n",
    "    (X,Y) = TrialFunctions(VXY)\n",
    "    (X_chap,Y_chap) = TestFunctions(VXY)\n",
    "    bc = DirichletBC(VXY, (0.,0.), \"x[0] == 0.\")\n",
    "    a_x = X.dx(0)*X_chap*dx\n",
    "    L_x = cos(theta)*X_chap*dx\n",
    "    a_y = Y.dx(0)*Y_chap*dx\n",
    "    L_y = sin(theta)*Y_chap*dx\n",
    "    xy = Function(VXY)\n",
    "    solve(a_x + a_y == L_x + L_y, xy, bc)\n",
    "    return xy\n",
    "\n",
    "def xy_vertex_values(xy):\n",
    "    (xs,ys) = xy.split(deepcopy=True) \n",
    "    xsv = xs.compute_vertex_values()\n",
    "    ysv = ys.compute_vertex_values()\n",
    "    return (xsv, ysv)\n",
    "\n",
    "def plot_shape(theta):\n",
    "    (xsv, ysv) = xy_vertex_values(xy_shape(theta))\n",
    "    myplot = plt.plot(xsv,ysv)\n",
    "    plt.ylim([-1.,1.])\n",
    "    plt.xlim([-1.,1.])\n",
    "    return myplot"
   ]
  },
  {
   "cell_type": "markdown",
   "metadata": {},
   "source": [
    "## Mesh and definition of function spaces\n",
    "We use here the 'elastica' inextensible model and the rotation field $\\theta$ is used to describe the configuration"
   ]
  },
  {
   "cell_type": "code",
   "execution_count": 6,
   "metadata": {
    "collapsed": false
   },
   "outputs": [],
   "source": [
    "mesh = UnitIntervalMesh(50)\n",
    "element = FiniteElement(\"CG\", interval, 1)\n",
    "V = FunctionSpace(mesh, element)\n",
    "theta = Function(V)\n",
    "thetat = TestFunction(V)\n",
    "delta_theta = TrialFunction(V)"
   ]
  },
  {
   "cell_type": "markdown",
   "metadata": {},
   "source": [
    "The following function solve the problem for a given loading $t$  and initial curvature $k_0$. We suppose here that the initial curvature in uniform in space. \n",
    "Moreover note that we make use of the function in FEniCS (UFL componenent) to do symbolically the directional derivative of a function (see https://fenicsproject.org/documentation/dolfin/dev/python/programmers-reference/fem/formmanipulations/derivative.html and the FEniCS documentation). See also Chapter 3 of the second volume of the  FEnics tutorial.\n",
    "\n",
    "To simplify the formulation when using the $\\theta$ variable to describe the shape, we assume that the deformed shape is symmetric and we consider only half-beam, with rotation null in $x=0$ and free in $x=1$. "
   ]
  },
  {
   "cell_type": "code",
   "execution_count": 7,
   "metadata": {
    "collapsed": false
   },
   "outputs": [],
   "source": [
    "def solve_beam(tv, k0v):\n",
    "    lmbda = Expression(\"t\", t=tv, degree=0)\n",
    "    k0 = Expression(\"k0\", k0=k0v, degree=0)\n",
    "    energy = (1./2.*(theta.dx(0)-k0)**2+lmbda*sin(theta))*dx\n",
    "    energy_theta = derivative(energy, theta, thetat)\n",
    "    energy_theta_theta = derivative(energy_theta, theta, delta_theta)\n",
    "    bcs = DirichletBC(V, pi/2., \"x[0]<1e-8\")\n",
    "    problem = NonlinearVariationalProblem(energy_theta, theta, bcs=bcs, J=energy_theta_theta)\n",
    "    solver = NonlinearVariationalSolver(problem)\n",
    "    solver.solve()\n",
    "    return theta"
   ]
  },
  {
   "cell_type": "markdown",
   "metadata": {},
   "source": [
    "This solves the problem for different values of the applied force, for a given initial curvature. \n",
    "The line `theta = interpolate(Expression(\"pi/2.+k0*x[0]\",k0=-0.,degree=1),V)` serves to give the starting point for the Netwon algorithm. Note that the `k0` there is not necassary the one we put in the energy."
   ]
  },
  {
   "cell_type": "code",
   "execution_count": 8,
   "metadata": {
    "collapsed": false,
    "scrolled": true
   },
   "outputs": [
    {
     "data": {
      "image/png": "[encoded data removed]",
      "text/plain": [
       "<matplotlib.figure.Figure at 0x1188caf50>"
      ]
     },
     "metadata": {},
     "output_type": "display_data"
    }
   ],
   "source": [
    "theta = interpolate(Expression(\"pi/2.+k0*x[0]\",k0=-0.,degree=1),V)\n",
    "loadings = np.linspace(0,3,10)\n",
    "thetaL = 0*loadings\n",
    "fig = plt.figure()\n",
    "k0v = -.1\n",
    "for (i, load) in enumerate(loadings):\n",
    "    theta = solve_beam(load,k0v)\n",
    "    (xsv, ysv) = xy_vertex_values(xy_shape(theta))\n",
    "    ax = fig.add_subplot(111)\n",
    "    ax.plot(xsv,ysv,'-')\n",
    "    plt.ylim([-1.,1.1])\n",
    "    plt.xlim([-1.,1.1])\n",
    "    ax.set_aspect('equal')\n",
    "    ax.set_title(\"k0 = %s\"%k0v)"
   ]
  },
  {
   "cell_type": "markdown",
   "metadata": {},
   "source": [
    "Have fun playing with that, and use also your own netwon solver!"
   ]
  }
 ],
 "metadata": {
  "kernelspec": {
   "display_name": "Python 2",
   "language": "python",
   "name": "python2"
  },
  "language_info": {
   "codemirror_mode": {
    "name": "ipython",
    "version": 2
   },
   "file_extension": ".py",
   "mimetype": "text/x-python",
   "name": "python",
   "nbconvert_exporter": "python",
   "pygments_lexer": "ipython2",
   "version": "2.7.12"
  }
 },
 "nbformat": 4,
 "nbformat_minor": 0
}
