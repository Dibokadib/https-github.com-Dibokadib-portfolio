{
 "cells": [
  {
   "cell_type": "code",
   "execution_count": null,
   "id": "c4439871-ae8b-448b-9bc8-0d913266a02f",
   "metadata": {},
   "outputs": [],
   "source": [
    "from mpi4py import MPI\n",
    "from petsc4py import PETSc"
   ]
  },
  {
   "cell_type": "code",
   "execution_count": null,
   "id": "0ba4e4b8-866c-4e19-9d36-a186867051ed",
   "metadata": {},
   "outputs": [],
   "source": [
    "import numpy as np\n",
    "\n",
    "import dolfinx\n",
    "import ufl\n",
    "from dolfinx import la\n",
    "from dolfinx.fem import (\n",
    "    Expression,\n",
    "    Function,\n",
    "    FunctionSpace,\n",
    "    dirichletbc,\n",
    "    form,\n",
    "    functionspace,\n",
    "    locate_dofs_topological,\n",
    ")\n",
    "from dolfinx.fem.petsc import apply_lifting, assemble_matrix, assemble_vector, set_bc\n",
    "from dolfinx.io import XDMFFile\n",
    "from dolfinx.mesh import CellType, GhostMode, create_box, locate_entities_boundary\n",
    "from ufl import dx, grad, inner\n",
    "\n",
    "dtype = PETSc.ScalarType  # type: ignore"
   ]
  },
  {
   "cell_type": "code",
   "execution_count": null,
   "id": "1ad43e85-1a69-4c5a-b971-42210fc48d47",
   "metadata": {},
   "outputs": [],
   "source": [
    "def build_nullspace(V: FunctionSpace):\n",
    "    \"\"\"Build PETSc nullspace for 3D elasticity\"\"\"\n",
    "\n",
    "    # Create vectors that will span the nullspace\n",
    "    bs = V.dofmap.index_map_bs\n",
    "    length0 = V.dofmap.index_map.size_local\n",
    "    basis = [la.vector(V.dofmap.index_map, bs=bs, dtype=dtype) for i in range(6)]\n",
    "    b = [b.array for b in basis]\n",
    "\n",
    "    # Get dof indices for each subspace (x, y and z dofs)\n",
    "    dofs = [V.sub(i).dofmap.list.flatten() for i in range(3)]\n",
    "\n",
    "    # Set the three translational rigid body modes\n",
    "    for i in range(3):\n",
    "        b[i][dofs[i]] = 1.0\n",
    "\n",
    "    # Set the three rotational rigid body modes\n",
    "    x = V.tabulate_dof_coordinates()\n",
    "    dofs_block = V.dofmap.list.flatten()\n",
    "    x0, x1, x2 = x[dofs_block, 0], x[dofs_block, 1], x[dofs_block, 2]\n",
    "    b[3][dofs[0]] = -x1\n",
    "    b[3][dofs[1]] = x0\n",
    "    b[4][dofs[0]] = x2\n",
    "    b[4][dofs[2]] = -x0\n",
    "    b[5][dofs[2]] = x1\n",
    "    b[5][dofs[1]] = -x2\n",
    "\n",
    "    _basis = [x._cpp_object for x in basis]\n",
    "    dolfinx.cpp.la.orthonormalize(_basis)\n",
    "    assert dolfinx.cpp.la.is_orthonormal(_basis)\n",
    "\n",
    "    basis_petsc = [\n",
    "        PETSc.Vec().createWithArray(x[: bs * length0], bsize=3, comm=V.mesh.comm)  # type: ignore\n",
    "        for x in b\n",
    "    ]\n",
    "    return PETSc.NullSpace().create(vectors=basis_petsc)  # type: ignore"
   ]
  },
  {
   "cell_type": "code",
   "execution_count": 1,
   "id": "52eced02-d65e-4d36-bb92-384892462850",
   "metadata": {},
   "outputs": [],
   "source": [
    "import gmsh\n",
    "import math\n",
    "import meshio\n",
    "import numpy as np\n",
    "from mpi4py import MPI\n",
    "from dolfinx import mesh, fem, io\n",
    "import ufl\n",
    "from petsc4py import PETSc\n",
    "from dolfinx.io import gmshio\n",
    "import ufl"
   ]
  },
  {
   "cell_type": "code",
   "execution_count": 2,
   "id": "09cfa117-ced0-43a8-a32c-473b33762c4c",
   "metadata": {},
   "outputs": [],
   "source": [
    "gmsh.initialize()\n",
    "gmsh.model.add(\"helicopter_blade\")"
   ]
  },
  {
   "cell_type": "code",
   "execution_count": 3,
   "id": "33e21f99-46d9-4569-b0cd-73ec54a8b405",
   "metadata": {},
   "outputs": [
    {
     "name": "stdout",
     "output_type": "stream",
     "text": [
      "Info    : Meshing 1D...\n",
      "Info    : [  0%] Meshing curve 1 (Line)\n",
      "Info    : [ 20%] Meshing curve 2 (Line)\n",
      "Info    : [ 30%] Meshing curve 3 (Line)\n",
      "Info    : [ 40%] Meshing curve 4 (Line)\n",
      "Info    : [ 60%] Meshing curve 5 (Line)\n",
      "Info    : [ 70%] Meshing curve 6 (Line)\n",
      "Info    : [ 80%] Meshing curve 9 (Circle)\n",
      "Info    : [ 90%] Meshing curve 10 (Line)\n",
      "Info    : Done meshing 1D (Wall 0.00111012s, CPU 0.001829s)\n",
      "Info    : Meshing 2D...\n",
      "Info    : [  0%] Meshing surface 1 (Plane, Frontal-Delaunay)\n",
      "Info    : [ 60%] Meshing surface 2 (Plane, Frontal-Delaunay)\n",
      "Info    : Done meshing 2D (Wall 0.0331925s, CPU 0.032392s)\n",
      "Info    : 1464 nodes 2935 elements\n",
      "Info    : Writing 'helicopter_blade.msh'...\n",
      "Info    : Done writing 'helicopter_blade.msh'\n",
      "\n"
     ]
    }
   ],
   "source": [
    "# Ajouter les points de la pale\n",
    "points = [\n",
    "    (0.35, 0.15, 0),\n",
    "    (0, 0.15, 0),\n",
    "    (0, 0, 0),\n",
    "    (0.35, 0, 0),\n",
    "    (6, 0, 0),\n",
    "    (6, 0.5, 0),\n",
    "    (0.7, 0.5, 0),\n",
    "    (0.35, 0.5, 0)\n",
    "]\n",
    "\n",
    "for i, (x, y, z) in enumerate(points, start=1):\n",
    "    gmsh.model.geo.addPoint(x, y, z, 0.1, i)\n",
    "\n",
    "# Ajouter les lignes droites\n",
    "gmsh.model.geo.addLine(1, 2, 1)\n",
    "gmsh.model.geo.addLine(2, 3, 2)\n",
    "gmsh.model.geo.addLine(3, 4, 3)\n",
    "gmsh.model.geo.addLine(4, 5, 4)\n",
    "gmsh.model.geo.addLine(5, 6, 5)\n",
    "gmsh.model.geo.addLine(6, 7, 6)\n",
    "\n",
    "# Ajouter l'arc de cercle\n",
    "gmsh.model.geo.addCircleArc(7, 8, 1, 9)\n",
    "\n",
    "# Ajouter la ligne coupant la pale\n",
    "gmsh.model.geo.addLine(4, 1, 10)\n",
    "\n",
    "# Définir les boucles de courbes pour les surfaces\n",
    "surface1_lines = [1, 2, 3, 10]\n",
    "surface2_lines = [-10, 4, 5, 6, 9]\n",
    "\n",
    "# Ajouter des surfaces pour marquer les conditions aux limites\n",
    "gmsh.model.geo.addCurveLoop(surface1_lines, 1)\n",
    "gmsh.model.geo.addCurveLoop(surface2_lines, 2)\n",
    "\n",
    "gmsh.model.geo.addPlaneSurface([1], 1)\n",
    "gmsh.model.geo.addPlaneSurface([2], 2)\n",
    "\n",
    "# Synchroniser la géométrie et générer le maillage\n",
    "gmsh.model.geo.synchronize()\n",
    "\n",
    "# Définir la taille caractéristique globale\n",
    "gmsh.option.setNumber(\"Mesh.CharacteristicLengthMin\", 0.01)\n",
    "gmsh.option.setNumber(\"Mesh.CharacteristicLengthMax\", 0.05)\n",
    "\n",
    "gmsh.model.mesh.generate(2)\n",
    "\n",
    "# Marquer les surfaces\n",
    "gmsh.model.addPhysicalGroup(2, [1], 1)\n",
    "gmsh.model.addPhysicalGroup(2, [2], 2)\n",
    "\n",
    "# Sauvegarde du maillage dans un fichier .msh\n",
    "gmsh.write(\"helicopter_blade.msh\")\n",
    "\n",
    "# Finaliser Gmsh\n",
    "gmsh.finalize()\n",
    "\n",
    "# Lire le fichier .msh avec meshio\n",
    "msh = meshio.read(\"helicopter_blade.msh\")"
   ]
  },
  {
   "cell_type": "code",
   "execution_count": 4,
   "id": "f515a13c-134f-46c1-b105-05286c0411a2",
   "metadata": {},
   "outputs": [],
   "source": [
    "# Initialize MPI\n",
    "mesh_comm = MPI.COMM_WORLD\n",
    "gmsh_model_rank = 0\n",
    "gdim = 2"
   ]
  },
  {
   "cell_type": "code",
   "execution_count": 5,
   "id": "4220fb98-482b-48cb-9231-9fedea9ab328",
   "metadata": {},
   "outputs": [
    {
     "name": "stderr",
     "output_type": "stream",
     "text": [
      "Error   : Gmsh has not been initialized\n",
      "Error   : Gmsh has not been initialized\n"
     ]
    },
    {
     "ename": "Exception",
     "evalue": "Could not get last error",
     "output_type": "error",
     "traceback": [
      "\u001b[0;31m---------------------------------------------------------------------------\u001b[0m",
      "\u001b[0;31mException\u001b[0m                                 Traceback (most recent call last)",
      "\u001b[0;32m/var/folders/ty/c54qm9p93g3fr077nd3t55980000gn/T/ipykernel_13055/4155269032.py\u001b[0m in \u001b[0;36m?\u001b[0;34m()\u001b[0m\n\u001b[1;32m      1\u001b[0m \u001b[0;31m# Convert Gmsh model to FEniCSx mesh\u001b[0m\u001b[0;34m\u001b[0m\u001b[0;34m\u001b[0m\u001b[0m\n\u001b[0;32m----> 2\u001b[0;31m \u001b[0mdomain\u001b[0m\u001b[0;34m,\u001b[0m \u001b[0mcell_markers\u001b[0m\u001b[0;34m,\u001b[0m \u001b[0mfacet_markers\u001b[0m \u001b[0;34m=\u001b[0m \u001b[0mgmshio\u001b[0m\u001b[0;34m.\u001b[0m\u001b[0mmodel_to_mesh\u001b[0m\u001b[0;34m(\u001b[0m\u001b[0mgmsh\u001b[0m\u001b[0;34m.\u001b[0m\u001b[0mmodel\u001b[0m\u001b[0;34m,\u001b[0m \u001b[0mmesh_comm\u001b[0m\u001b[0;34m,\u001b[0m \u001b[0mgmsh_model_rank\u001b[0m\u001b[0;34m,\u001b[0m \u001b[0mgdim\u001b[0m\u001b[0;34m=\u001b[0m\u001b[0mgdim\u001b[0m\u001b[0;34m)\u001b[0m\u001b[0;34m\u001b[0m\u001b[0;34m\u001b[0m\u001b[0m\n\u001b[0m",
      "\u001b[0;32m/opt/anaconda3/envs/fenicsx-env/lib/python3.12/site-packages/dolfinx/io/gmshio.py\u001b[0m in \u001b[0;36m?\u001b[0;34m(model, comm, rank, gdim, partitioner, dtype)\u001b[0m\n\u001b[1;32m    239\u001b[0m     \"\"\"\n\u001b[1;32m    240\u001b[0m     \u001b[0;32mif\u001b[0m \u001b[0mcomm\u001b[0m\u001b[0;34m.\u001b[0m\u001b[0mrank\u001b[0m \u001b[0;34m==\u001b[0m \u001b[0mrank\u001b[0m\u001b[0;34m:\u001b[0m\u001b[0;34m\u001b[0m\u001b[0;34m\u001b[0m\u001b[0m\n\u001b[1;32m    241\u001b[0m         \u001b[0;32massert\u001b[0m \u001b[0mmodel\u001b[0m \u001b[0;32mis\u001b[0m \u001b[0;32mnot\u001b[0m \u001b[0;32mNone\u001b[0m\u001b[0;34m,\u001b[0m \u001b[0;34m\"Gmsh model is None on rank responsible for mesh creation.\"\u001b[0m\u001b[0;34m\u001b[0m\u001b[0;34m\u001b[0m\u001b[0m\n\u001b[1;32m    242\u001b[0m         \u001b[0;31m# Get mesh geometry and mesh topology for each element\u001b[0m\u001b[0;34m\u001b[0m\u001b[0;34m\u001b[0m\u001b[0m\n\u001b[0;32m--> 243\u001b[0;31m         \u001b[0mx\u001b[0m \u001b[0;34m=\u001b[0m \u001b[0mextract_geometry\u001b[0m\u001b[0;34m(\u001b[0m\u001b[0mmodel\u001b[0m\u001b[0;34m)\u001b[0m\u001b[0;34m\u001b[0m\u001b[0;34m\u001b[0m\u001b[0m\n\u001b[0m\u001b[1;32m    244\u001b[0m         \u001b[0mtopologies\u001b[0m \u001b[0;34m=\u001b[0m \u001b[0mextract_topology_and_markers\u001b[0m\u001b[0;34m(\u001b[0m\u001b[0mmodel\u001b[0m\u001b[0;34m)\u001b[0m\u001b[0;34m\u001b[0m\u001b[0;34m\u001b[0m\u001b[0m\n\u001b[1;32m    245\u001b[0m \u001b[0;34m\u001b[0m\u001b[0m\n\u001b[1;32m    246\u001b[0m         \u001b[0;31m# Extract Gmsh cell id, dimension of cell and number of nodes to\u001b[0m\u001b[0;34m\u001b[0m\u001b[0;34m\u001b[0m\u001b[0m\n",
      "\u001b[0;32m/opt/anaconda3/envs/fenicsx-env/lib/python3.12/site-packages/dolfinx/io/gmshio.py\u001b[0m in \u001b[0;36m?\u001b[0;34m(model, name)\u001b[0m\n\u001b[1;32m    184\u001b[0m     \u001b[0;32mif\u001b[0m \u001b[0mname\u001b[0m \u001b[0;32mis\u001b[0m \u001b[0;32mnot\u001b[0m \u001b[0;32mNone\u001b[0m\u001b[0;34m:\u001b[0m\u001b[0;34m\u001b[0m\u001b[0;34m\u001b[0m\u001b[0m\n\u001b[1;32m    185\u001b[0m         \u001b[0mmodel\u001b[0m\u001b[0;34m.\u001b[0m\u001b[0msetCurrent\u001b[0m\u001b[0;34m(\u001b[0m\u001b[0mname\u001b[0m\u001b[0;34m)\u001b[0m\u001b[0;34m\u001b[0m\u001b[0;34m\u001b[0m\u001b[0m\n\u001b[1;32m    186\u001b[0m \u001b[0;34m\u001b[0m\u001b[0m\n\u001b[1;32m    187\u001b[0m     \u001b[0;31m# Get the unique tag and coordinates for nodes in mesh\u001b[0m\u001b[0;34m\u001b[0m\u001b[0;34m\u001b[0m\u001b[0m\n\u001b[0;32m--> 188\u001b[0;31m     \u001b[0mindices\u001b[0m\u001b[0;34m,\u001b[0m \u001b[0mpoints\u001b[0m\u001b[0;34m,\u001b[0m \u001b[0m_\u001b[0m \u001b[0;34m=\u001b[0m \u001b[0mmodel\u001b[0m\u001b[0;34m.\u001b[0m\u001b[0mmesh\u001b[0m\u001b[0;34m.\u001b[0m\u001b[0mgetNodes\u001b[0m\u001b[0;34m(\u001b[0m\u001b[0;34m)\u001b[0m\u001b[0;34m\u001b[0m\u001b[0;34m\u001b[0m\u001b[0m\n\u001b[0m\u001b[1;32m    189\u001b[0m     \u001b[0mpoints\u001b[0m \u001b[0;34m=\u001b[0m \u001b[0mpoints\u001b[0m\u001b[0;34m.\u001b[0m\u001b[0mreshape\u001b[0m\u001b[0;34m(\u001b[0m\u001b[0;34m-\u001b[0m\u001b[0;36m1\u001b[0m\u001b[0;34m,\u001b[0m \u001b[0;36m3\u001b[0m\u001b[0;34m)\u001b[0m\u001b[0;34m\u001b[0m\u001b[0;34m\u001b[0m\u001b[0m\n\u001b[1;32m    190\u001b[0m \u001b[0;34m\u001b[0m\u001b[0m\n\u001b[1;32m    191\u001b[0m     \u001b[0;31m# Gmsh indices starts at 1. We therefore subtract one to use\u001b[0m\u001b[0;34m\u001b[0m\u001b[0;34m\u001b[0m\u001b[0m\n",
      "\u001b[0;32m/opt/anaconda3/envs/fenicsx-env/lib/python3.12/site-packages/gmsh.py\u001b[0m in \u001b[0;36m?\u001b[0;34m(dim, tag, includeBoundary, returnParametricCoord)\u001b[0m\n\u001b[1;32m   2377\u001b[0m                 \u001b[0mc_int\u001b[0m\u001b[0;34m(\u001b[0m\u001b[0mbool\u001b[0m\u001b[0;34m(\u001b[0m\u001b[0mincludeBoundary\u001b[0m\u001b[0;34m)\u001b[0m\u001b[0;34m)\u001b[0m\u001b[0;34m,\u001b[0m\u001b[0;34m\u001b[0m\u001b[0;34m\u001b[0m\u001b[0m\n\u001b[1;32m   2378\u001b[0m                 \u001b[0mc_int\u001b[0m\u001b[0;34m(\u001b[0m\u001b[0mbool\u001b[0m\u001b[0;34m(\u001b[0m\u001b[0mreturnParametricCoord\u001b[0m\u001b[0;34m)\u001b[0m\u001b[0;34m)\u001b[0m\u001b[0;34m,\u001b[0m\u001b[0;34m\u001b[0m\u001b[0;34m\u001b[0m\u001b[0m\n\u001b[1;32m   2379\u001b[0m                 \u001b[0mbyref\u001b[0m\u001b[0;34m(\u001b[0m\u001b[0mierr\u001b[0m\u001b[0;34m)\u001b[0m\u001b[0;34m)\u001b[0m\u001b[0;34m\u001b[0m\u001b[0;34m\u001b[0m\u001b[0m\n\u001b[1;32m   2380\u001b[0m             \u001b[0;32mif\u001b[0m \u001b[0mierr\u001b[0m\u001b[0;34m.\u001b[0m\u001b[0mvalue\u001b[0m \u001b[0;34m!=\u001b[0m \u001b[0;36m0\u001b[0m\u001b[0;34m:\u001b[0m\u001b[0;34m\u001b[0m\u001b[0;34m\u001b[0m\u001b[0m\n\u001b[0;32m-> 2381\u001b[0;31m                 \u001b[0;32mraise\u001b[0m \u001b[0mException\u001b[0m\u001b[0;34m(\u001b[0m\u001b[0mlogger\u001b[0m\u001b[0;34m.\u001b[0m\u001b[0mgetLastError\u001b[0m\u001b[0;34m(\u001b[0m\u001b[0;34m)\u001b[0m\u001b[0;34m)\u001b[0m\u001b[0;34m\u001b[0m\u001b[0;34m\u001b[0m\u001b[0m\n\u001b[0m\u001b[1;32m   2382\u001b[0m             return (\n\u001b[1;32m   2383\u001b[0m                 \u001b[0m_ovectorsize\u001b[0m\u001b[0;34m(\u001b[0m\u001b[0mapi_nodeTags_\u001b[0m\u001b[0;34m,\u001b[0m \u001b[0mapi_nodeTags_n_\u001b[0m\u001b[0;34m.\u001b[0m\u001b[0mvalue\u001b[0m\u001b[0;34m)\u001b[0m\u001b[0;34m,\u001b[0m\u001b[0;34m\u001b[0m\u001b[0;34m\u001b[0m\u001b[0m\n\u001b[1;32m   2384\u001b[0m                 \u001b[0m_ovectordouble\u001b[0m\u001b[0;34m(\u001b[0m\u001b[0mapi_coord_\u001b[0m\u001b[0;34m,\u001b[0m \u001b[0mapi_coord_n_\u001b[0m\u001b[0;34m.\u001b[0m\u001b[0mvalue\u001b[0m\u001b[0;34m)\u001b[0m\u001b[0;34m,\u001b[0m\u001b[0;34m\u001b[0m\u001b[0;34m\u001b[0m\u001b[0m\n",
      "\u001b[0;32m/opt/anaconda3/envs/fenicsx-env/lib/python3.12/site-packages/gmsh.py\u001b[0m in \u001b[0;36m?\u001b[0;34m()\u001b[0m\n\u001b[1;32m  11039\u001b[0m         lib.gmshLoggerGetLastError(\n\u001b[1;32m  11040\u001b[0m             \u001b[0mbyref\u001b[0m\u001b[0;34m(\u001b[0m\u001b[0mapi_error_\u001b[0m\u001b[0;34m)\u001b[0m\u001b[0;34m,\u001b[0m\u001b[0;34m\u001b[0m\u001b[0;34m\u001b[0m\u001b[0m\n\u001b[1;32m  11041\u001b[0m             \u001b[0mbyref\u001b[0m\u001b[0;34m(\u001b[0m\u001b[0mierr\u001b[0m\u001b[0;34m)\u001b[0m\u001b[0;34m)\u001b[0m\u001b[0;34m\u001b[0m\u001b[0;34m\u001b[0m\u001b[0m\n\u001b[1;32m  11042\u001b[0m         \u001b[0;32mif\u001b[0m \u001b[0mierr\u001b[0m\u001b[0;34m.\u001b[0m\u001b[0mvalue\u001b[0m \u001b[0;34m!=\u001b[0m \u001b[0;36m0\u001b[0m\u001b[0;34m:\u001b[0m\u001b[0;34m\u001b[0m\u001b[0;34m\u001b[0m\u001b[0m\n\u001b[0;32m> 11043\u001b[0;31m             \u001b[0;32mraise\u001b[0m \u001b[0mException\u001b[0m\u001b[0;34m(\u001b[0m\u001b[0;34m'Could not get last error'\u001b[0m\u001b[0;34m)\u001b[0m\u001b[0;34m\u001b[0m\u001b[0;34m\u001b[0m\u001b[0m\n\u001b[0m\u001b[1;32m  11044\u001b[0m         \u001b[0;32mreturn\u001b[0m \u001b[0m_ostring\u001b[0m\u001b[0;34m(\u001b[0m\u001b[0mapi_error_\u001b[0m\u001b[0;34m)\u001b[0m\u001b[0;34m\u001b[0m\u001b[0;34m\u001b[0m\u001b[0m\n",
      "\u001b[0;31mException\u001b[0m: Could not get last error"
     ]
    }
   ],
   "source": [
    "# Convert Gmsh model to FEniCSx mesh\n",
    "domain, cell_markers, facet_markers = gmshio.model_to_mesh(gmsh.model, mesh_comm, gmsh_model_rank, gdim=gdim)"
   ]
  },
  {
   "cell_type": "code",
   "execution_count": null,
   "id": "06e7244f-e90e-48d4-bdcd-94c3156e0d99",
   "metadata": {},
   "outputs": [],
   "source": []
  },
  {
   "cell_type": "code",
   "execution_count": null,
   "id": "23686c39-b193-4fd8-ad0a-e1b4ea160e51",
   "metadata": {},
   "outputs": [],
   "source": [
    "# Lire le fichier .msh avec meshio\n",
    "msh = meshio.read(\"helicopter_blade.msh\")\n",
    "\n",
    "# Extraire les points (noeuds) et les cellules (éléments)\n",
    "points = msh.points[:, :2]  # Enlever la 3ème dimension si nécessaire pour un maillage 2D\n",
    "cells = msh.cells_dict[\"triangle\"]"
   ]
  },
  {
   "cell_type": "code",
   "execution_count": null,
   "id": "3b68df2d-fd48-4141-a0bd-b0b7e1c24785",
   "metadata": {},
   "outputs": [],
   "source": [
    "\n",
    "# Define boundary condition\n",
    "tol = 0.35\n",
    "\n",
    "def clamped_boundary(x, on_boundary):\n",
    "    return on_boundary and x[0] < tol\n",
    "\n",
    "\n",
    "fdim = domain.topology.dim - 1\n",
    "boundary_facets = mesh.locate_entities_boundary(domain, fdim, clamped_boundary)\n",
    "\n",
    "u_D = np.array([0, 0, 0], dtype=default_scalar_type)\n",
    "bc = fem.dirichletbc(u_D, fem.locate_dofs_topological(V, fdim, boundary_facets), V)"
   ]
  },
  {
   "cell_type": "code",
   "execution_count": null,
   "id": "1330f955-c341-431d-b389-e5cbef2328ab",
   "metadata": {},
   "outputs": [],
   "source": []
  }
 ],
 "metadata": {
  "kernelspec": {
   "display_name": "Python 3 (ipykernel)",
   "language": "python",
   "name": "python3"
  },
  "language_info": {
   "codemirror_mode": {
    "name": "ipython",
    "version": 3
   },
   "file_extension": ".py",
   "mimetype": "text/x-python",
   "name": "python",
   "nbconvert_exporter": "python",
   "pygments_lexer": "ipython3",
   "version": "3.12.4"
  }
 },
 "nbformat": 4,
 "nbformat_minor": 5
}
