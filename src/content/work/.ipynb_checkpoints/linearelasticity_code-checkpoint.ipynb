{
 "cells": [
  {
   "cell_type": "code",
   "execution_count": 1,
   "metadata": {},
   "outputs": [
    {
     "ename": "ValueError",
     "evalue": "Number of scalars (294) must match either the number of points (147) or the number of cells (120).",
     "output_type": "error",
     "traceback": [
      "\u001b[0;31m---------------------------------------------------------------------------\u001b[0m",
      "\u001b[0;31mValueError\u001b[0m                                Traceback (most recent call last)",
      "Cell \u001b[0;32mIn[1], line 56\u001b[0m\n\u001b[1;32m     53\u001b[0m grid \u001b[38;5;241m=\u001b[39m pyvista\u001b[38;5;241m.\u001b[39mUnstructuredGrid(topology, cell_types, geometry)\n\u001b[1;32m     55\u001b[0m \u001b[38;5;66;03m# Attach vector values to grid and warp grid by vector\u001b[39;00m\n\u001b[0;32m---> 56\u001b[0m \u001b[43mgrid\u001b[49m\u001b[43m[\u001b[49m\u001b[38;5;124;43m\"\u001b[39;49m\u001b[38;5;124;43mu\u001b[39;49m\u001b[38;5;124;43m\"\u001b[39;49m\u001b[43m]\u001b[49m \u001b[38;5;241m=\u001b[39m uh\u001b[38;5;241m.\u001b[39mx\u001b[38;5;241m.\u001b[39marray\n\u001b[1;32m     57\u001b[0m \u001b[38;5;66;03m#actor_0 = p.add_mesh(grid, style=\"wireframe\", color=\"k\")\u001b[39;00m\n\u001b[1;32m     58\u001b[0m warped \u001b[38;5;241m=\u001b[39m grid\u001b[38;5;241m.\u001b[39mwarp_by_scalar(\u001b[38;5;124m\"\u001b[39m\u001b[38;5;124mu\u001b[39m\u001b[38;5;124m\"\u001b[39m, factor\u001b[38;5;241m=\u001b[39m\u001b[38;5;241m1.5\u001b[39m)\n",
      "File \u001b[0;32m/opt/anaconda3/envs/fenicsx-env/lib/python3.12/site-packages/pyvista/core/dataset.py:1989\u001b[0m, in \u001b[0;36mDataSet.__setitem__\u001b[0;34m(self, name, scalars)\u001b[0m\n\u001b[1;32m   1985\u001b[0m     \u001b[38;5;28mself\u001b[39m\u001b[38;5;241m.\u001b[39mcell_data[name] \u001b[38;5;241m=\u001b[39m scalars\n\u001b[1;32m   1986\u001b[0m \u001b[38;5;28;01melse\u001b[39;00m:\n\u001b[1;32m   1987\u001b[0m     \u001b[38;5;66;03m# Field data must be set explicitly as it could be a point of\u001b[39;00m\n\u001b[1;32m   1988\u001b[0m     \u001b[38;5;66;03m# confusion for new users\u001b[39;00m\n\u001b[0;32m-> 1989\u001b[0m     \u001b[43mraise_not_matching\u001b[49m\u001b[43m(\u001b[49m\u001b[43mscalars\u001b[49m\u001b[43m,\u001b[49m\u001b[43m \u001b[49m\u001b[38;5;28;43mself\u001b[39;49m\u001b[43m)\u001b[49m\n\u001b[1;32m   1990\u001b[0m \u001b[38;5;28;01mreturn\u001b[39;00m\n",
      "File \u001b[0;32m/opt/anaconda3/envs/fenicsx-env/lib/python3.12/site-packages/pyvista/core/utilities/arrays.py:374\u001b[0m, in \u001b[0;36mraise_not_matching\u001b[0;34m(scalars, dataset)\u001b[0m\n\u001b[1;32m    370\u001b[0m \u001b[38;5;28;01mif\u001b[39;00m \u001b[38;5;28misinstance\u001b[39m(dataset, _vtk\u001b[38;5;241m.\u001b[39mvtkTable):\n\u001b[1;32m    371\u001b[0m     \u001b[38;5;28;01mraise\u001b[39;00m \u001b[38;5;167;01mValueError\u001b[39;00m(\n\u001b[1;32m    372\u001b[0m         \u001b[38;5;124mf\u001b[39m\u001b[38;5;124m'\u001b[39m\u001b[38;5;124mNumber of scalars (\u001b[39m\u001b[38;5;132;01m{\u001b[39;00mscalars\u001b[38;5;241m.\u001b[39mshape[\u001b[38;5;241m0\u001b[39m]\u001b[38;5;132;01m}\u001b[39;00m\u001b[38;5;124m) must match number of rows (\u001b[39m\u001b[38;5;132;01m{\u001b[39;00mdataset\u001b[38;5;241m.\u001b[39mn_rows\u001b[38;5;132;01m}\u001b[39;00m\u001b[38;5;124m).\u001b[39m\u001b[38;5;124m'\u001b[39m\n\u001b[1;32m    373\u001b[0m     )\n\u001b[0;32m--> 374\u001b[0m \u001b[38;5;28;01mraise\u001b[39;00m \u001b[38;5;167;01mValueError\u001b[39;00m(\n\u001b[1;32m    375\u001b[0m     \u001b[38;5;124mf\u001b[39m\u001b[38;5;124m'\u001b[39m\u001b[38;5;124mNumber of scalars (\u001b[39m\u001b[38;5;132;01m{\u001b[39;00mscalars\u001b[38;5;241m.\u001b[39mshape[\u001b[38;5;241m0\u001b[39m]\u001b[38;5;132;01m}\u001b[39;00m\u001b[38;5;124m) \u001b[39m\u001b[38;5;124m'\u001b[39m\n\u001b[1;32m    376\u001b[0m     \u001b[38;5;124mf\u001b[39m\u001b[38;5;124m'\u001b[39m\u001b[38;5;124mmust match either the number of points (\u001b[39m\u001b[38;5;132;01m{\u001b[39;00mdataset\u001b[38;5;241m.\u001b[39mn_points\u001b[38;5;132;01m}\u001b[39;00m\u001b[38;5;124m) \u001b[39m\u001b[38;5;124m'\u001b[39m\n\u001b[1;32m    377\u001b[0m     \u001b[38;5;124mf\u001b[39m\u001b[38;5;124m'\u001b[39m\u001b[38;5;124mor the number of cells (\u001b[39m\u001b[38;5;132;01m{\u001b[39;00mdataset\u001b[38;5;241m.\u001b[39mn_cells\u001b[38;5;132;01m}\u001b[39;00m\u001b[38;5;124m).\u001b[39m\u001b[38;5;124m'\u001b[39m\n\u001b[1;32m    378\u001b[0m )\n",
      "\u001b[0;31mValueError\u001b[0m: Number of scalars (294) must match either the number of points (147) or the number of cells (120)."
     ]
    }
   ],
   "source": [
    "# Scaled variable\n",
    "import pyvista\n",
    "from dolfinx import mesh, fem, plot, io, default_scalar_type\n",
    "from dolfinx.fem.petsc import LinearProblem\n",
    "from mpi4py import MPI\n",
    "import ufl\n",
    "import numpy as np\n",
    "L = 1\n",
    "W = 0.2\n",
    "mu = 1\n",
    "rho = 1\n",
    "delta = W / L\n",
    "gamma = 0.4 * delta**2\n",
    "beta = 1.25\n",
    "lambda_ = beta\n",
    "g = gamma\n",
    "\n",
    "domain = mesh.create_rectangle(MPI.COMM_WORLD, [np.array([0, 0]), np.array([L, W])],\n",
    "                         [20, 6], cell_type=mesh.CellType.quadrilateral)\n",
    "\n",
    "V = fem.functionspace(domain, (\"Lagrange\", 1, (domain.geometry.dim, )))\n",
    "\n",
    "def clamped_boundary(x):\n",
    "    return np.isclose(x[0], 0)\n",
    "\n",
    "fdim = domain.topology.dim - 1\n",
    "\n",
    "boundary_facets = mesh.locate_entities_boundary(domain, fdim, clamped_boundary)\n",
    "u_D = np.array([0, 0], dtype=default_scalar_type)\n",
    "bc = fem.dirichletbc(u_D, fem.locate_dofs_topological(V, fdim, boundary_facets), V)\n",
    "T = fem.Constant(domain, default_scalar_type((-0.2, 0.0)))\n",
    "ds = ufl.Measure(\"ds\", domain=domain)\n",
    "\n",
    "def epsilon(u):\n",
    "    return ufl.sym(ufl.grad(u))  # Equivalent to 0.5*(ufl.nabla_grad(u) + ufl.nabla_grad(u).T)\n",
    "\n",
    "def sigma(u):\n",
    "    return lambda_ * ufl.nabla_div(u) * ufl.Identity(len(u)) + 2 * mu * epsilon(u)\n",
    "\n",
    "u = ufl.TrialFunction(V)\n",
    "v = ufl.TestFunction(V)\n",
    "f = fem.Constant(domain, default_scalar_type((2.4, 0)))\n",
    "a = ufl.inner(sigma(u), epsilon(v)) * ufl.dx\n",
    "L = ufl.dot(f, v) * ufl.dx + ufl.dot(T, v) * ds\n",
    "\n",
    "problem = LinearProblem(a, L, bcs=[bc], petsc_options={\"ksp_type\": \"preonly\", \"pc_type\": \"lu\"})\n",
    "\n",
    "uh = problem.solve()\n",
    "\n",
    "# Create plotter and pyvista grid\n",
    "p = pyvista.Plotter()\n",
    "topology, cell_types, geometry = plot.vtk_mesh(V)\n",
    "grid = pyvista.UnstructuredGrid(topology, cell_types, geometry)\n",
    "\n",
    "# Attach vector values to grid and warp grid by vector\n",
    "grid[\"u\"] = uh.x.array\n",
    "#actor_0 = p.add_mesh(grid, style=\"wireframe\", color=\"k\")\n",
    "warped = grid.warp_by_scalar(\"u\", factor=1.5)\n",
    "actor_1 = p.add_mesh(warped, show_edges=True)\n",
    "p.show_axes()\n",
    "if not pyvista.OFF_SCREEN:\n",
    "    p.show()\n",
    "else:\n",
    "    figure_as_array = p.screenshot(\"deflection.png\")"
   ]
  },
  {
   "cell_type": "code",
   "execution_count": null,
   "metadata": {},
   "outputs": [],
   "source": []
  }
 ],
 "metadata": {
  "jupytext": {
   "formats": "ipynb,py:light"
  },
  "kernelspec": {
   "display_name": "Python 3 (ipykernel)",
   "language": "python",
   "name": "python3"
  },
  "language_info": {
   "codemirror_mode": {
    "name": "ipython",
    "version": 3
   },
   "file_extension": ".py",
   "mimetype": "text/x-python",
   "name": "python",
   "nbconvert_exporter": "python",
   "pygments_lexer": "ipython3",
   "version": "3.12.4"
  }
 },
 "nbformat": 4,
 "nbformat_minor": 4
}
