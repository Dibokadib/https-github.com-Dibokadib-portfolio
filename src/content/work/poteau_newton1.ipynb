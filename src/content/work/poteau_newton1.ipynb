{
 "cells": [
  {
   "cell_type": "code",
   "execution_count": 1,
   "metadata": {
    "collapsed": false
   },
   "outputs": [],
   "source": [
    "from fenics import *\n",
    "import numpy as np\n",
    "import pylab as plt \n",
    "parameters.plotting_backend = 'matplotlib'\n",
    "%matplotlib inline"
   ]
  },
  {
   "cell_type": "code",
   "execution_count": 2,
   "metadata": {
    "collapsed": false
   },
   "outputs": [
    {
     "data": {
      "image/png": "[encoded data removed]",
      "text/plain": [
       "<matplotlib.figure.Figure at 0x7f50ed004f90>"
      ]
     },
     "metadata": {},
     "output_type": "display_data"
    }
   ],
   "source": [
    "mesh = UnitIntervalMesh(100)\n",
    "plot(mesh)\n",
    "\n",
    "V = FunctionSpace(mesh, 'CG', 1)\n",
    "thetat = TestFunction(V)\n",
    "delta_theta = TrialFunction(V)\n",
    "theta0 = interpolate(Constant(pi/2.),V)\n",
    "#theta0 = interpolate(Expression(\"pi/2+k0*x[0]\",k0=k0,degree=1),V)"
   ]
  },
  {
   "cell_type": "code",
   "execution_count": 3,
   "metadata": {
    "collapsed": false
   },
   "outputs": [],
   "source": [
    "F1 = 0.1\n",
    "L1 = (11.8e-2)/2\n",
    "E1 = 1.3e6\n",
    "b1 = 4.e-2\n",
    "h1 = 0.7e-2\n",
    "I1 = b1*(h1**3)/12.\n",
    "\n",
    "lam = F1*(L1**2.)/(E1*I1)\n",
    "\n",
    "a_k = inner(delta_theta.dx(0),thetat.dx(0))*dx\n",
    "a_g = inner(delta_theta,thetat)*dx\n",
    "k0 = -1.\n",
    "\n",
    "def cl(x, on_boundary):\n",
    "    return on_boundary and near(x[0],0.)\n",
    "\n",
    "bc = DirichletBC(V,0.,cl)"
   ]
  },
  {
   "cell_type": "code",
   "execution_count": 4,
   "metadata": {
    "collapsed": false
   },
   "outputs": [],
   "source": [
    "tol = 1e-10\n",
    "iter = 0\n",
    "maxiter = 100\n",
    "err = 100.\n",
    "while err > tol and iter < maxiter:\n",
    "    a_n = a_k-lam*a_g\n",
    "    l_n = Constant(-1.)*(inner((theta0.dx(0)-k0),thetat.dx(0)) + lam*inner(cos(theta0),thetat))*dx\n",
    "    dtheta = Function(V)\n",
    "    solve(a_n==l_n,dtheta,bc)\n",
    "    L = assemble(l_n)\n",
    "    err = norm(L)\n",
    "    theta0 = theta0 + dtheta\n",
    "    iter = iter+1"
   ]
  },
  {
   "cell_type": "code",
   "execution_count": 5,
   "metadata": {
    "collapsed": false
   },
   "outputs": [
    {
     "data": {
      "text/plain": [
       "[<matplotlib.lines.Line2D at 0x7f50dcee4690>]"
      ]
     },
     "execution_count": 5,
     "metadata": {},
     "output_type": "execute_result"
    },
    {
     "data": {
      "image/png": "[encoded data removed]",
      "text/plain": [
       "<matplotlib.figure.Figure at 0x7f50debcc1d0>"
      ]
     },
     "metadata": {},
     "output_type": "display_data"
    }
   ],
   "source": [
    "def xy_shape(theta0):\n",
    "    VXY = VectorFunctionSpace(mesh,'P',1,dim = 2)\n",
    "    (X,Y) = TrialFunctions(VXY)\n",
    "    (X_chap,Y_chap) = TestFunctions(VXY)\n",
    "    bc = DirichletBC(VXY, (0.,0.), \"x[0] == 0.\")\n",
    "    a_x = X.dx(0)*X_chap*dx\n",
    "    L_x = cos(theta0)*X_chap*dx\n",
    "    a_y = Y.dx(0)*Y_chap*dx\n",
    "    L_y = sin(theta0)*Y_chap*dx\n",
    "    xy = Function(VXY)\n",
    "    solve(a_x + a_y == L_x + L_y, xy, bc)\n",
    "    return xy\n",
    "\n",
    "def xy_vertex_values(xy):\n",
    "    (xs,ys) = xy.split(deepcopy=True)\n",
    "    xsv = xs.compute_vertex_values()\n",
    "    ysv = ys.compute_vertex_values()\n",
    "    return (xsv, ysv)\n",
    "\n",
    "def plot_shape(theta0):\n",
    "    (xsv,ysv) = xy_vertex_values(xy_shape(theta0))\n",
    "    myplot = plt.plot(xsv,ysv)\n",
    "    plt.ylim([-1.,1.])\n",
    "    plt.xlim([-1.,1.])\n",
    "    return myplot"
   ]
  },
  {
   "cell_type": "code",
   "execution_count": 16,
   "metadata": {
    "collapsed": false
   },
   "outputs": [
    {
     "data": {
      "image/png": "[encoded data removed]",
      "text/plain": [
       "<matplotlib.figure.Figure at 0x7f70a586ded0>"
      ]
     },
     "metadata": {},
     "output_type": "display_data"
    }
   ],
   "source": [
    "plt.figure(1)\n",
    "plot_shape(theta0)\n",
    "plt.title('configuration d equilibre F=0,1N')\n",
    "plt.savefig('flamb01.png')\n",
    "plt.show()"
   ]
  }
 ],
 "metadata": {
  "kernelspec": {
   "display_name": "Python 2",
   "language": "python",
   "name": "python2"
  },
  "language_info": {
   "codemirror_mode": {
    "name": "ipython",
    "version": 2
   },
   "file_extension": ".py",
   "mimetype": "text/x-python",
   "name": "python",
   "nbconvert_exporter": "python",
   "pygments_lexer": "ipython2",
   "version": "2.7.12"
  }
 },
 "nbformat": 4,
 "nbformat_minor": 0
}
